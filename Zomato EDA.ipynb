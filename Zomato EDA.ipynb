{
 "cells": [
  {
   "cell_type": "code",
   "execution_count": 1,
   "metadata": {},
   "outputs": [],
   "source": [
    "import numpy as np\n",
    "import pandas as pd\n",
    "import matplotlib.pyplot as plt\n",
    "import seaborn as sns "
   ]
  },
  {
   "cell_type": "code",
   "execution_count": 2,
   "metadata": {},
   "outputs": [
    {
     "data": {
      "text/html": [
       "<div>\n",
       "<style scoped>\n",
       "    .dataframe tbody tr th:only-of-type {\n",
       "        vertical-align: middle;\n",
       "    }\n",
       "\n",
       "    .dataframe tbody tr th {\n",
       "        vertical-align: top;\n",
       "    }\n",
       "\n",
       "    .dataframe thead th {\n",
       "        text-align: right;\n",
       "    }\n",
       "</style>\n",
       "<table border=\"1\" class=\"dataframe\">\n",
       "  <thead>\n",
       "    <tr style=\"text-align: right;\">\n",
       "      <th></th>\n",
       "      <th>url</th>\n",
       "      <th>address</th>\n",
       "      <th>name</th>\n",
       "      <th>online_order</th>\n",
       "      <th>book_table</th>\n",
       "      <th>rate</th>\n",
       "      <th>votes</th>\n",
       "      <th>phone</th>\n",
       "      <th>location</th>\n",
       "      <th>rest_type</th>\n",
       "      <th>dish_liked</th>\n",
       "      <th>cuisines</th>\n",
       "      <th>approx_cost(for two people)</th>\n",
       "      <th>reviews_list</th>\n",
       "      <th>menu_item</th>\n",
       "      <th>listed_in(type)</th>\n",
       "      <th>listed_in(city)</th>\n",
       "    </tr>\n",
       "  </thead>\n",
       "  <tbody>\n",
       "    <tr>\n",
       "      <th>0</th>\n",
       "      <td>https://www.zomato.com/bangalore/jalsa-banasha...</td>\n",
       "      <td>942, 21st Main Road, 2nd Stage, Banashankari, ...</td>\n",
       "      <td>Jalsa</td>\n",
       "      <td>Yes</td>\n",
       "      <td>Yes</td>\n",
       "      <td>4.1/5</td>\n",
       "      <td>775</td>\n",
       "      <td>080 42297555\\r\\n+91 9743772233</td>\n",
       "      <td>Banashankari</td>\n",
       "      <td>Casual Dining</td>\n",
       "      <td>Pasta, Lunch Buffet, Masala Papad, Paneer Laja...</td>\n",
       "      <td>North Indian, Mughlai, Chinese</td>\n",
       "      <td>800</td>\n",
       "      <td>[('Rated 4.0', 'RATED\\n  A beautiful place to ...</td>\n",
       "      <td>[]</td>\n",
       "      <td>Buffet</td>\n",
       "      <td>Banashankari</td>\n",
       "    </tr>\n",
       "    <tr>\n",
       "      <th>1</th>\n",
       "      <td>https://www.zomato.com/bangalore/spice-elephan...</td>\n",
       "      <td>2nd Floor, 80 Feet Road, Near Big Bazaar, 6th ...</td>\n",
       "      <td>Spice Elephant</td>\n",
       "      <td>Yes</td>\n",
       "      <td>No</td>\n",
       "      <td>4.1/5</td>\n",
       "      <td>787</td>\n",
       "      <td>080 41714161</td>\n",
       "      <td>Banashankari</td>\n",
       "      <td>Casual Dining</td>\n",
       "      <td>Momos, Lunch Buffet, Chocolate Nirvana, Thai G...</td>\n",
       "      <td>Chinese, North Indian, Thai</td>\n",
       "      <td>800</td>\n",
       "      <td>[('Rated 4.0', 'RATED\\n  Had been here for din...</td>\n",
       "      <td>[]</td>\n",
       "      <td>Buffet</td>\n",
       "      <td>Banashankari</td>\n",
       "    </tr>\n",
       "    <tr>\n",
       "      <th>2</th>\n",
       "      <td>https://www.zomato.com/SanchurroBangalore?cont...</td>\n",
       "      <td>1112, Next to KIMS Medical College, 17th Cross...</td>\n",
       "      <td>San Churro Cafe</td>\n",
       "      <td>Yes</td>\n",
       "      <td>No</td>\n",
       "      <td>3.8/5</td>\n",
       "      <td>918</td>\n",
       "      <td>+91 9663487993</td>\n",
       "      <td>Banashankari</td>\n",
       "      <td>Cafe, Casual Dining</td>\n",
       "      <td>Churros, Cannelloni, Minestrone Soup, Hot Choc...</td>\n",
       "      <td>Cafe, Mexican, Italian</td>\n",
       "      <td>800</td>\n",
       "      <td>[('Rated 3.0', \"RATED\\n  Ambience is not that ...</td>\n",
       "      <td>[]</td>\n",
       "      <td>Buffet</td>\n",
       "      <td>Banashankari</td>\n",
       "    </tr>\n",
       "    <tr>\n",
       "      <th>3</th>\n",
       "      <td>https://www.zomato.com/bangalore/addhuri-udupi...</td>\n",
       "      <td>1st Floor, Annakuteera, 3rd Stage, Banashankar...</td>\n",
       "      <td>Addhuri Udupi Bhojana</td>\n",
       "      <td>No</td>\n",
       "      <td>No</td>\n",
       "      <td>3.7/5</td>\n",
       "      <td>88</td>\n",
       "      <td>+91 9620009302</td>\n",
       "      <td>Banashankari</td>\n",
       "      <td>Quick Bites</td>\n",
       "      <td>Masala Dosa</td>\n",
       "      <td>South Indian, North Indian</td>\n",
       "      <td>300</td>\n",
       "      <td>[('Rated 4.0', \"RATED\\n  Great food and proper...</td>\n",
       "      <td>[]</td>\n",
       "      <td>Buffet</td>\n",
       "      <td>Banashankari</td>\n",
       "    </tr>\n",
       "    <tr>\n",
       "      <th>4</th>\n",
       "      <td>https://www.zomato.com/bangalore/grand-village...</td>\n",
       "      <td>10, 3rd Floor, Lakshmi Associates, Gandhi Baza...</td>\n",
       "      <td>Grand Village</td>\n",
       "      <td>No</td>\n",
       "      <td>No</td>\n",
       "      <td>3.8/5</td>\n",
       "      <td>166</td>\n",
       "      <td>+91 8026612447\\r\\n+91 9901210005</td>\n",
       "      <td>Basavanagudi</td>\n",
       "      <td>Casual Dining</td>\n",
       "      <td>Panipuri, Gol Gappe</td>\n",
       "      <td>North Indian, Rajasthani</td>\n",
       "      <td>600</td>\n",
       "      <td>[('Rated 4.0', 'RATED\\n  Very good restaurant ...</td>\n",
       "      <td>[]</td>\n",
       "      <td>Buffet</td>\n",
       "      <td>Banashankari</td>\n",
       "    </tr>\n",
       "    <tr>\n",
       "      <th>5</th>\n",
       "      <td>https://www.zomato.com/bangalore/timepass-dinn...</td>\n",
       "      <td>37, 5-1, 4th Floor, Bosco Court, Gandhi Bazaar...</td>\n",
       "      <td>Timepass Dinner</td>\n",
       "      <td>Yes</td>\n",
       "      <td>No</td>\n",
       "      <td>3.8/5</td>\n",
       "      <td>286</td>\n",
       "      <td>+91 9980040002\\r\\n+91 9980063005</td>\n",
       "      <td>Basavanagudi</td>\n",
       "      <td>Casual Dining</td>\n",
       "      <td>Onion Rings, Pasta, Kadhai Paneer, Salads, Sal...</td>\n",
       "      <td>North Indian</td>\n",
       "      <td>600</td>\n",
       "      <td>[('Rated 3.0', 'RATED\\n  Food 3/5\\nAmbience 3/...</td>\n",
       "      <td>[]</td>\n",
       "      <td>Buffet</td>\n",
       "      <td>Banashankari</td>\n",
       "    </tr>\n",
       "    <tr>\n",
       "      <th>6</th>\n",
       "      <td>https://www.zomato.com/bangalore/rosewood-inte...</td>\n",
       "      <td>19/1, New Timberyard Layout, Beside Satellite ...</td>\n",
       "      <td>Rosewood International Hotel - Bar &amp; Restaurant</td>\n",
       "      <td>No</td>\n",
       "      <td>No</td>\n",
       "      <td>3.6/5</td>\n",
       "      <td>8</td>\n",
       "      <td>+91 9731716688\\r\\n080 26740366</td>\n",
       "      <td>Mysore Road</td>\n",
       "      <td>Casual Dining</td>\n",
       "      <td>NaN</td>\n",
       "      <td>North Indian, South Indian, Andhra, Chinese</td>\n",
       "      <td>800</td>\n",
       "      <td>[('Rated 5.0', 'RATED\\n  Awesome food ??Great ...</td>\n",
       "      <td>[]</td>\n",
       "      <td>Buffet</td>\n",
       "      <td>Banashankari</td>\n",
       "    </tr>\n",
       "    <tr>\n",
       "      <th>7</th>\n",
       "      <td>https://www.zomato.com/bangalore/onesta-banash...</td>\n",
       "      <td>2469, 3rd Floor, 24th Cross, Opposite BDA Comp...</td>\n",
       "      <td>Onesta</td>\n",
       "      <td>Yes</td>\n",
       "      <td>Yes</td>\n",
       "      <td>4.6/5</td>\n",
       "      <td>2556</td>\n",
       "      <td>080 48653961\\r\\n080 48655715</td>\n",
       "      <td>Banashankari</td>\n",
       "      <td>Casual Dining, Cafe</td>\n",
       "      <td>Farmhouse Pizza, Chocolate Banana, Virgin Moji...</td>\n",
       "      <td>Pizza, Cafe, Italian</td>\n",
       "      <td>600</td>\n",
       "      <td>[('Rated 5.0', 'RATED\\n  I personally really l...</td>\n",
       "      <td>[]</td>\n",
       "      <td>Cafes</td>\n",
       "      <td>Banashankari</td>\n",
       "    </tr>\n",
       "    <tr>\n",
       "      <th>8</th>\n",
       "      <td>https://www.zomato.com/bangalore/penthouse-caf...</td>\n",
       "      <td>1, 30th Main Road, 3rd Stage, Banashankari, Ba...</td>\n",
       "      <td>Penthouse Cafe</td>\n",
       "      <td>Yes</td>\n",
       "      <td>No</td>\n",
       "      <td>4.0/5</td>\n",
       "      <td>324</td>\n",
       "      <td>+91 8884135549\\r\\n+91 9449449316</td>\n",
       "      <td>Banashankari</td>\n",
       "      <td>Cafe</td>\n",
       "      <td>Pizza, Mocktails, Coffee, Nachos, Salad, Pasta...</td>\n",
       "      <td>Cafe, Italian, Continental</td>\n",
       "      <td>700</td>\n",
       "      <td>[('Rated 3.0', \"RATED\\n  I had been to this pl...</td>\n",
       "      <td>[]</td>\n",
       "      <td>Cafes</td>\n",
       "      <td>Banashankari</td>\n",
       "    </tr>\n",
       "    <tr>\n",
       "      <th>9</th>\n",
       "      <td>https://www.zomato.com/bangalore/smacznego-ban...</td>\n",
       "      <td>2470, 21 Main Road, 25th Cross, Banashankari, ...</td>\n",
       "      <td>Smacznego</td>\n",
       "      <td>Yes</td>\n",
       "      <td>No</td>\n",
       "      <td>4.2/5</td>\n",
       "      <td>504</td>\n",
       "      <td>+91 9945230807\\r\\n+91 9743804471</td>\n",
       "      <td>Banashankari</td>\n",
       "      <td>Cafe</td>\n",
       "      <td>Waffles, Pasta, Coleslaw Sandwich, Choco Waffl...</td>\n",
       "      <td>Cafe, Mexican, Italian, Momos, Beverages</td>\n",
       "      <td>550</td>\n",
       "      <td>[('Rated 4.0', \"RATED\\n  Easy to locate\\nVFM 3...</td>\n",
       "      <td>[]</td>\n",
       "      <td>Cafes</td>\n",
       "      <td>Banashankari</td>\n",
       "    </tr>\n",
       "  </tbody>\n",
       "</table>\n",
       "</div>"
      ],
      "text/plain": [
       "                                                 url  \\\n",
       "0  https://www.zomato.com/bangalore/jalsa-banasha...   \n",
       "1  https://www.zomato.com/bangalore/spice-elephan...   \n",
       "2  https://www.zomato.com/SanchurroBangalore?cont...   \n",
       "3  https://www.zomato.com/bangalore/addhuri-udupi...   \n",
       "4  https://www.zomato.com/bangalore/grand-village...   \n",
       "5  https://www.zomato.com/bangalore/timepass-dinn...   \n",
       "6  https://www.zomato.com/bangalore/rosewood-inte...   \n",
       "7  https://www.zomato.com/bangalore/onesta-banash...   \n",
       "8  https://www.zomato.com/bangalore/penthouse-caf...   \n",
       "9  https://www.zomato.com/bangalore/smacznego-ban...   \n",
       "\n",
       "                                             address  \\\n",
       "0  942, 21st Main Road, 2nd Stage, Banashankari, ...   \n",
       "1  2nd Floor, 80 Feet Road, Near Big Bazaar, 6th ...   \n",
       "2  1112, Next to KIMS Medical College, 17th Cross...   \n",
       "3  1st Floor, Annakuteera, 3rd Stage, Banashankar...   \n",
       "4  10, 3rd Floor, Lakshmi Associates, Gandhi Baza...   \n",
       "5  37, 5-1, 4th Floor, Bosco Court, Gandhi Bazaar...   \n",
       "6  19/1, New Timberyard Layout, Beside Satellite ...   \n",
       "7  2469, 3rd Floor, 24th Cross, Opposite BDA Comp...   \n",
       "8  1, 30th Main Road, 3rd Stage, Banashankari, Ba...   \n",
       "9  2470, 21 Main Road, 25th Cross, Banashankari, ...   \n",
       "\n",
       "                                              name online_order book_table  \\\n",
       "0                                            Jalsa          Yes        Yes   \n",
       "1                                   Spice Elephant          Yes         No   \n",
       "2                                  San Churro Cafe          Yes         No   \n",
       "3                            Addhuri Udupi Bhojana           No         No   \n",
       "4                                    Grand Village           No         No   \n",
       "5                                  Timepass Dinner          Yes         No   \n",
       "6  Rosewood International Hotel - Bar & Restaurant           No         No   \n",
       "7                                           Onesta          Yes        Yes   \n",
       "8                                   Penthouse Cafe          Yes         No   \n",
       "9                                        Smacznego          Yes         No   \n",
       "\n",
       "    rate  votes                             phone      location  \\\n",
       "0  4.1/5    775    080 42297555\\r\\n+91 9743772233  Banashankari   \n",
       "1  4.1/5    787                      080 41714161  Banashankari   \n",
       "2  3.8/5    918                    +91 9663487993  Banashankari   \n",
       "3  3.7/5     88                    +91 9620009302  Banashankari   \n",
       "4  3.8/5    166  +91 8026612447\\r\\n+91 9901210005  Basavanagudi   \n",
       "5  3.8/5    286  +91 9980040002\\r\\n+91 9980063005  Basavanagudi   \n",
       "6  3.6/5      8    +91 9731716688\\r\\n080 26740366   Mysore Road   \n",
       "7  4.6/5   2556      080 48653961\\r\\n080 48655715  Banashankari   \n",
       "8  4.0/5    324  +91 8884135549\\r\\n+91 9449449316  Banashankari   \n",
       "9  4.2/5    504  +91 9945230807\\r\\n+91 9743804471  Banashankari   \n",
       "\n",
       "             rest_type                                         dish_liked  \\\n",
       "0        Casual Dining  Pasta, Lunch Buffet, Masala Papad, Paneer Laja...   \n",
       "1        Casual Dining  Momos, Lunch Buffet, Chocolate Nirvana, Thai G...   \n",
       "2  Cafe, Casual Dining  Churros, Cannelloni, Minestrone Soup, Hot Choc...   \n",
       "3          Quick Bites                                        Masala Dosa   \n",
       "4        Casual Dining                                Panipuri, Gol Gappe   \n",
       "5        Casual Dining  Onion Rings, Pasta, Kadhai Paneer, Salads, Sal...   \n",
       "6        Casual Dining                                                NaN   \n",
       "7  Casual Dining, Cafe  Farmhouse Pizza, Chocolate Banana, Virgin Moji...   \n",
       "8                 Cafe  Pizza, Mocktails, Coffee, Nachos, Salad, Pasta...   \n",
       "9                 Cafe  Waffles, Pasta, Coleslaw Sandwich, Choco Waffl...   \n",
       "\n",
       "                                      cuisines approx_cost(for two people)  \\\n",
       "0               North Indian, Mughlai, Chinese                         800   \n",
       "1                  Chinese, North Indian, Thai                         800   \n",
       "2                       Cafe, Mexican, Italian                         800   \n",
       "3                   South Indian, North Indian                         300   \n",
       "4                     North Indian, Rajasthani                         600   \n",
       "5                                 North Indian                         600   \n",
       "6  North Indian, South Indian, Andhra, Chinese                         800   \n",
       "7                         Pizza, Cafe, Italian                         600   \n",
       "8                   Cafe, Italian, Continental                         700   \n",
       "9     Cafe, Mexican, Italian, Momos, Beverages                         550   \n",
       "\n",
       "                                        reviews_list menu_item  \\\n",
       "0  [('Rated 4.0', 'RATED\\n  A beautiful place to ...        []   \n",
       "1  [('Rated 4.0', 'RATED\\n  Had been here for din...        []   \n",
       "2  [('Rated 3.0', \"RATED\\n  Ambience is not that ...        []   \n",
       "3  [('Rated 4.0', \"RATED\\n  Great food and proper...        []   \n",
       "4  [('Rated 4.0', 'RATED\\n  Very good restaurant ...        []   \n",
       "5  [('Rated 3.0', 'RATED\\n  Food 3/5\\nAmbience 3/...        []   \n",
       "6  [('Rated 5.0', 'RATED\\n  Awesome food ??Great ...        []   \n",
       "7  [('Rated 5.0', 'RATED\\n  I personally really l...        []   \n",
       "8  [('Rated 3.0', \"RATED\\n  I had been to this pl...        []   \n",
       "9  [('Rated 4.0', \"RATED\\n  Easy to locate\\nVFM 3...        []   \n",
       "\n",
       "  listed_in(type) listed_in(city)  \n",
       "0          Buffet    Banashankari  \n",
       "1          Buffet    Banashankari  \n",
       "2          Buffet    Banashankari  \n",
       "3          Buffet    Banashankari  \n",
       "4          Buffet    Banashankari  \n",
       "5          Buffet    Banashankari  \n",
       "6          Buffet    Banashankari  \n",
       "7           Cafes    Banashankari  \n",
       "8           Cafes    Banashankari  \n",
       "9           Cafes    Banashankari  "
      ]
     },
     "execution_count": 2,
     "metadata": {},
     "output_type": "execute_result"
    }
   ],
   "source": [
    "Zomato = pd.read_csv(\"zomato.csv\")\n",
    "Zomato.head(10)"
   ]
  },
  {
   "cell_type": "code",
   "execution_count": 3,
   "metadata": {},
   "outputs": [
    {
     "data": {
      "text/plain": [
       "Index(['url', 'address', 'name', 'online_order', 'book_table', 'rate', 'votes',\n",
       "       'phone', 'location', 'rest_type', 'dish_liked', 'cuisines',\n",
       "       'approx_cost(for two people)', 'reviews_list', 'menu_item',\n",
       "       'listed_in(type)', 'listed_in(city)'],\n",
       "      dtype='object')"
      ]
     },
     "execution_count": 3,
     "metadata": {},
     "output_type": "execute_result"
    }
   ],
   "source": [
    "Zomato.columns"
   ]
  },
  {
   "cell_type": "code",
   "execution_count": 4,
   "metadata": {},
   "outputs": [],
   "source": [
    "#Zomato.info()"
   ]
  },
  {
   "cell_type": "code",
   "execution_count": 5,
   "metadata": {},
   "outputs": [],
   "source": [
    "#Zomato.isnull().sum()"
   ]
  },
  {
   "cell_type": "markdown",
   "metadata": {},
   "source": [
    "# **Data Cleaning**"
   ]
  },
  {
   "cell_type": "markdown",
   "metadata": {},
   "source": [
    "**Remove Unwanted columns**"
   ]
  },
  {
   "cell_type": "code",
   "execution_count": 6,
   "metadata": {},
   "outputs": [
    {
     "data": {
      "text/html": [
       "<div>\n",
       "<style scoped>\n",
       "    .dataframe tbody tr th:only-of-type {\n",
       "        vertical-align: middle;\n",
       "    }\n",
       "\n",
       "    .dataframe tbody tr th {\n",
       "        vertical-align: top;\n",
       "    }\n",
       "\n",
       "    .dataframe thead th {\n",
       "        text-align: right;\n",
       "    }\n",
       "</style>\n",
       "<table border=\"1\" class=\"dataframe\">\n",
       "  <thead>\n",
       "    <tr style=\"text-align: right;\">\n",
       "      <th></th>\n",
       "      <th>name</th>\n",
       "      <th>online_order</th>\n",
       "      <th>book_table</th>\n",
       "      <th>rate</th>\n",
       "      <th>votes</th>\n",
       "      <th>location</th>\n",
       "      <th>rest_type</th>\n",
       "      <th>cuisines</th>\n",
       "      <th>approx_cost(for two people)</th>\n",
       "      <th>listed_in(city)</th>\n",
       "    </tr>\n",
       "  </thead>\n",
       "  <tbody>\n",
       "    <tr>\n",
       "      <th>0</th>\n",
       "      <td>Jalsa</td>\n",
       "      <td>Yes</td>\n",
       "      <td>Yes</td>\n",
       "      <td>4.1/5</td>\n",
       "      <td>775</td>\n",
       "      <td>Banashankari</td>\n",
       "      <td>Casual Dining</td>\n",
       "      <td>North Indian, Mughlai, Chinese</td>\n",
       "      <td>800</td>\n",
       "      <td>Banashankari</td>\n",
       "    </tr>\n",
       "    <tr>\n",
       "      <th>1</th>\n",
       "      <td>Spice Elephant</td>\n",
       "      <td>Yes</td>\n",
       "      <td>No</td>\n",
       "      <td>4.1/5</td>\n",
       "      <td>787</td>\n",
       "      <td>Banashankari</td>\n",
       "      <td>Casual Dining</td>\n",
       "      <td>Chinese, North Indian, Thai</td>\n",
       "      <td>800</td>\n",
       "      <td>Banashankari</td>\n",
       "    </tr>\n",
       "    <tr>\n",
       "      <th>2</th>\n",
       "      <td>San Churro Cafe</td>\n",
       "      <td>Yes</td>\n",
       "      <td>No</td>\n",
       "      <td>3.8/5</td>\n",
       "      <td>918</td>\n",
       "      <td>Banashankari</td>\n",
       "      <td>Cafe, Casual Dining</td>\n",
       "      <td>Cafe, Mexican, Italian</td>\n",
       "      <td>800</td>\n",
       "      <td>Banashankari</td>\n",
       "    </tr>\n",
       "    <tr>\n",
       "      <th>3</th>\n",
       "      <td>Addhuri Udupi Bhojana</td>\n",
       "      <td>No</td>\n",
       "      <td>No</td>\n",
       "      <td>3.7/5</td>\n",
       "      <td>88</td>\n",
       "      <td>Banashankari</td>\n",
       "      <td>Quick Bites</td>\n",
       "      <td>South Indian, North Indian</td>\n",
       "      <td>300</td>\n",
       "      <td>Banashankari</td>\n",
       "    </tr>\n",
       "    <tr>\n",
       "      <th>4</th>\n",
       "      <td>Grand Village</td>\n",
       "      <td>No</td>\n",
       "      <td>No</td>\n",
       "      <td>3.8/5</td>\n",
       "      <td>166</td>\n",
       "      <td>Basavanagudi</td>\n",
       "      <td>Casual Dining</td>\n",
       "      <td>North Indian, Rajasthani</td>\n",
       "      <td>600</td>\n",
       "      <td>Banashankari</td>\n",
       "    </tr>\n",
       "  </tbody>\n",
       "</table>\n",
       "</div>"
      ],
      "text/plain": [
       "                    name online_order book_table   rate  votes      location  \\\n",
       "0                  Jalsa          Yes        Yes  4.1/5    775  Banashankari   \n",
       "1         Spice Elephant          Yes         No  4.1/5    787  Banashankari   \n",
       "2        San Churro Cafe          Yes         No  3.8/5    918  Banashankari   \n",
       "3  Addhuri Udupi Bhojana           No         No  3.7/5     88  Banashankari   \n",
       "4          Grand Village           No         No  3.8/5    166  Basavanagudi   \n",
       "\n",
       "             rest_type                        cuisines  \\\n",
       "0        Casual Dining  North Indian, Mughlai, Chinese   \n",
       "1        Casual Dining     Chinese, North Indian, Thai   \n",
       "2  Cafe, Casual Dining          Cafe, Mexican, Italian   \n",
       "3          Quick Bites      South Indian, North Indian   \n",
       "4        Casual Dining        North Indian, Rajasthani   \n",
       "\n",
       "  approx_cost(for two people) listed_in(city)  \n",
       "0                         800    Banashankari  \n",
       "1                         800    Banashankari  \n",
       "2                         800    Banashankari  \n",
       "3                         300    Banashankari  \n",
       "4                         600    Banashankari  "
      ]
     },
     "execution_count": 6,
     "metadata": {},
     "output_type": "execute_result"
    }
   ],
   "source": [
    "Zomato.drop(['phone', 'url', 'address', 'reviews_list', 'menu_item', 'dish_liked', 'listed_in(type)'], axis = 1, inplace = True)\n",
    "Zomato.head()"
   ]
  },
  {
   "cell_type": "markdown",
   "metadata": {},
   "source": [
    "**Rename data columns**"
   ]
  },
  {
   "cell_type": "code",
   "execution_count": 7,
   "metadata": {},
   "outputs": [],
   "source": [
    "Zomato.rename(columns = {\"approx_cost(for two people)\" : \"approx_cost\", \"listed_in(city)\":\"area\"}, inplace =True)"
   ]
  },
  {
   "cell_type": "markdown",
   "metadata": {},
   "source": [
    "**remove the unknown character from the dataset**"
   ]
  },
  {
   "cell_type": "code",
   "execution_count": 8,
   "metadata": {},
   "outputs": [],
   "source": [
    "Zomato = Zomato[Zomato['name'].str.contains('RATED|Rated') == False]\n"
   ]
  },
  {
   "cell_type": "code",
   "execution_count": 9,
   "metadata": {},
   "outputs": [],
   "source": [
    "Zomato['name'] = Zomato['name'].str.replace('[Ãx][^A-Za-z]+','',regex=True)"
   ]
  },
  {
   "cell_type": "code",
   "execution_count": 10,
   "metadata": {},
   "outputs": [
    {
     "data": {
      "text/html": [
       "<div>\n",
       "<style scoped>\n",
       "    .dataframe tbody tr th:only-of-type {\n",
       "        vertical-align: middle;\n",
       "    }\n",
       "\n",
       "    .dataframe tbody tr th {\n",
       "        vertical-align: top;\n",
       "    }\n",
       "\n",
       "    .dataframe thead th {\n",
       "        text-align: right;\n",
       "    }\n",
       "</style>\n",
       "<table border=\"1\" class=\"dataframe\">\n",
       "  <thead>\n",
       "    <tr style=\"text-align: right;\">\n",
       "      <th></th>\n",
       "      <th>name</th>\n",
       "      <th>online_order</th>\n",
       "      <th>book_table</th>\n",
       "      <th>rate</th>\n",
       "      <th>votes</th>\n",
       "      <th>location</th>\n",
       "      <th>rest_type</th>\n",
       "      <th>cuisines</th>\n",
       "      <th>approx_cost</th>\n",
       "      <th>area</th>\n",
       "    </tr>\n",
       "  </thead>\n",
       "  <tbody>\n",
       "    <tr>\n",
       "      <th>0</th>\n",
       "      <td>Jalsa</td>\n",
       "      <td>Yes</td>\n",
       "      <td>Yes</td>\n",
       "      <td>4.1/5</td>\n",
       "      <td>775</td>\n",
       "      <td>Banashankari</td>\n",
       "      <td>Casual Dining</td>\n",
       "      <td>North Indian, Mughlai, Chinese</td>\n",
       "      <td>800</td>\n",
       "      <td>Banashankari</td>\n",
       "    </tr>\n",
       "    <tr>\n",
       "      <th>1</th>\n",
       "      <td>Spice Elephant</td>\n",
       "      <td>Yes</td>\n",
       "      <td>No</td>\n",
       "      <td>4.1/5</td>\n",
       "      <td>787</td>\n",
       "      <td>Banashankari</td>\n",
       "      <td>Casual Dining</td>\n",
       "      <td>Chinese, North Indian, Thai</td>\n",
       "      <td>800</td>\n",
       "      <td>Banashankari</td>\n",
       "    </tr>\n",
       "    <tr>\n",
       "      <th>2</th>\n",
       "      <td>San Churro Cafe</td>\n",
       "      <td>Yes</td>\n",
       "      <td>No</td>\n",
       "      <td>3.8/5</td>\n",
       "      <td>918</td>\n",
       "      <td>Banashankari</td>\n",
       "      <td>Cafe, Casual Dining</td>\n",
       "      <td>Cafe, Mexican, Italian</td>\n",
       "      <td>800</td>\n",
       "      <td>Banashankari</td>\n",
       "    </tr>\n",
       "    <tr>\n",
       "      <th>3</th>\n",
       "      <td>Addhuri Udupi Bhojana</td>\n",
       "      <td>No</td>\n",
       "      <td>No</td>\n",
       "      <td>3.7/5</td>\n",
       "      <td>88</td>\n",
       "      <td>Banashankari</td>\n",
       "      <td>Quick Bites</td>\n",
       "      <td>South Indian, North Indian</td>\n",
       "      <td>300</td>\n",
       "      <td>Banashankari</td>\n",
       "    </tr>\n",
       "    <tr>\n",
       "      <th>4</th>\n",
       "      <td>Grand Village</td>\n",
       "      <td>No</td>\n",
       "      <td>No</td>\n",
       "      <td>3.8/5</td>\n",
       "      <td>166</td>\n",
       "      <td>Basavanagudi</td>\n",
       "      <td>Casual Dining</td>\n",
       "      <td>North Indian, Rajasthani</td>\n",
       "      <td>600</td>\n",
       "      <td>Banashankari</td>\n",
       "    </tr>\n",
       "    <tr>\n",
       "      <th>5</th>\n",
       "      <td>Timepass Dinner</td>\n",
       "      <td>Yes</td>\n",
       "      <td>No</td>\n",
       "      <td>3.8/5</td>\n",
       "      <td>286</td>\n",
       "      <td>Basavanagudi</td>\n",
       "      <td>Casual Dining</td>\n",
       "      <td>North Indian</td>\n",
       "      <td>600</td>\n",
       "      <td>Banashankari</td>\n",
       "    </tr>\n",
       "    <tr>\n",
       "      <th>6</th>\n",
       "      <td>Rosewood International Hotel - Bar &amp; Restaurant</td>\n",
       "      <td>No</td>\n",
       "      <td>No</td>\n",
       "      <td>3.6/5</td>\n",
       "      <td>8</td>\n",
       "      <td>Mysore Road</td>\n",
       "      <td>Casual Dining</td>\n",
       "      <td>North Indian, South Indian, Andhra, Chinese</td>\n",
       "      <td>800</td>\n",
       "      <td>Banashankari</td>\n",
       "    </tr>\n",
       "    <tr>\n",
       "      <th>7</th>\n",
       "      <td>Onesta</td>\n",
       "      <td>Yes</td>\n",
       "      <td>Yes</td>\n",
       "      <td>4.6/5</td>\n",
       "      <td>2556</td>\n",
       "      <td>Banashankari</td>\n",
       "      <td>Casual Dining, Cafe</td>\n",
       "      <td>Pizza, Cafe, Italian</td>\n",
       "      <td>600</td>\n",
       "      <td>Banashankari</td>\n",
       "    </tr>\n",
       "    <tr>\n",
       "      <th>8</th>\n",
       "      <td>Penthouse Cafe</td>\n",
       "      <td>Yes</td>\n",
       "      <td>No</td>\n",
       "      <td>4.0/5</td>\n",
       "      <td>324</td>\n",
       "      <td>Banashankari</td>\n",
       "      <td>Cafe</td>\n",
       "      <td>Cafe, Italian, Continental</td>\n",
       "      <td>700</td>\n",
       "      <td>Banashankari</td>\n",
       "    </tr>\n",
       "    <tr>\n",
       "      <th>9</th>\n",
       "      <td>Smacznego</td>\n",
       "      <td>Yes</td>\n",
       "      <td>No</td>\n",
       "      <td>4.2/5</td>\n",
       "      <td>504</td>\n",
       "      <td>Banashankari</td>\n",
       "      <td>Cafe</td>\n",
       "      <td>Cafe, Mexican, Italian, Momos, Beverages</td>\n",
       "      <td>550</td>\n",
       "      <td>Banashankari</td>\n",
       "    </tr>\n",
       "    <tr>\n",
       "      <th>10</th>\n",
       "      <td>CafDown The Alley</td>\n",
       "      <td>Yes</td>\n",
       "      <td>No</td>\n",
       "      <td>4.1/5</td>\n",
       "      <td>402</td>\n",
       "      <td>Banashankari</td>\n",
       "      <td>Cafe</td>\n",
       "      <td>Cafe</td>\n",
       "      <td>500</td>\n",
       "      <td>Banashankari</td>\n",
       "    </tr>\n",
       "    <tr>\n",
       "      <th>11</th>\n",
       "      <td>Cafe Shuffle</td>\n",
       "      <td>Yes</td>\n",
       "      <td>Yes</td>\n",
       "      <td>4.2/5</td>\n",
       "      <td>150</td>\n",
       "      <td>Banashankari</td>\n",
       "      <td>Cafe</td>\n",
       "      <td>Cafe, Italian, Continental</td>\n",
       "      <td>600</td>\n",
       "      <td>Banashankari</td>\n",
       "    </tr>\n",
       "    <tr>\n",
       "      <th>12</th>\n",
       "      <td>The Coffee Shack</td>\n",
       "      <td>Yes</td>\n",
       "      <td>Yes</td>\n",
       "      <td>4.2/5</td>\n",
       "      <td>164</td>\n",
       "      <td>Banashankari</td>\n",
       "      <td>Cafe</td>\n",
       "      <td>Cafe, Chinese, Continental, Italian</td>\n",
       "      <td>500</td>\n",
       "      <td>Banashankari</td>\n",
       "    </tr>\n",
       "    <tr>\n",
       "      <th>13</th>\n",
       "      <td>Caf-Eleven</td>\n",
       "      <td>No</td>\n",
       "      <td>No</td>\n",
       "      <td>4.0/5</td>\n",
       "      <td>424</td>\n",
       "      <td>Banashankari</td>\n",
       "      <td>Cafe</td>\n",
       "      <td>Cafe, Continental</td>\n",
       "      <td>450</td>\n",
       "      <td>Banashankari</td>\n",
       "    </tr>\n",
       "    <tr>\n",
       "      <th>14</th>\n",
       "      <td>San Churro Cafe</td>\n",
       "      <td>Yes</td>\n",
       "      <td>No</td>\n",
       "      <td>3.8/5</td>\n",
       "      <td>918</td>\n",
       "      <td>Banashankari</td>\n",
       "      <td>Cafe, Casual Dining</td>\n",
       "      <td>Cafe, Mexican, Italian</td>\n",
       "      <td>800</td>\n",
       "      <td>Banashankari</td>\n",
       "    </tr>\n",
       "    <tr>\n",
       "      <th>15</th>\n",
       "      <td>Cafe Vivacity</td>\n",
       "      <td>Yes</td>\n",
       "      <td>No</td>\n",
       "      <td>3.8/5</td>\n",
       "      <td>90</td>\n",
       "      <td>Banashankari</td>\n",
       "      <td>Cafe</td>\n",
       "      <td>Cafe</td>\n",
       "      <td>650</td>\n",
       "      <td>Banashankari</td>\n",
       "    </tr>\n",
       "    <tr>\n",
       "      <th>16</th>\n",
       "      <td>Catch-up-ino</td>\n",
       "      <td>Yes</td>\n",
       "      <td>No</td>\n",
       "      <td>3.9/5</td>\n",
       "      <td>133</td>\n",
       "      <td>Banashankari</td>\n",
       "      <td>Cafe</td>\n",
       "      <td>Cafe, Fast Food, Continental, Chinese, Momos</td>\n",
       "      <td>800</td>\n",
       "      <td>Banashankari</td>\n",
       "    </tr>\n",
       "    <tr>\n",
       "      <th>17</th>\n",
       "      <td>Kirthi's Biryani</td>\n",
       "      <td>Yes</td>\n",
       "      <td>No</td>\n",
       "      <td>3.8/5</td>\n",
       "      <td>144</td>\n",
       "      <td>Banashankari</td>\n",
       "      <td>Cafe</td>\n",
       "      <td>Chinese, Cafe, Italian</td>\n",
       "      <td>700</td>\n",
       "      <td>Banashankari</td>\n",
       "    </tr>\n",
       "    <tr>\n",
       "      <th>18</th>\n",
       "      <td>T3H Cafe</td>\n",
       "      <td>No</td>\n",
       "      <td>No</td>\n",
       "      <td>3.9/5</td>\n",
       "      <td>93</td>\n",
       "      <td>Banashankari</td>\n",
       "      <td>Cafe</td>\n",
       "      <td>Cafe, Italian, American</td>\n",
       "      <td>300</td>\n",
       "      <td>Banashankari</td>\n",
       "    </tr>\n",
       "    <tr>\n",
       "      <th>19</th>\n",
       "      <td>360 Atoms Restaurant And Cafe</td>\n",
       "      <td>Yes</td>\n",
       "      <td>No</td>\n",
       "      <td>3.1/5</td>\n",
       "      <td>13</td>\n",
       "      <td>Banashankari</td>\n",
       "      <td>Cafe</td>\n",
       "      <td>Cafe, Chinese, Continental, Italian</td>\n",
       "      <td>400</td>\n",
       "      <td>Banashankari</td>\n",
       "    </tr>\n",
       "  </tbody>\n",
       "</table>\n",
       "</div>"
      ],
      "text/plain": [
       "                                               name online_order book_table  \\\n",
       "0                                             Jalsa          Yes        Yes   \n",
       "1                                    Spice Elephant          Yes         No   \n",
       "2                                   San Churro Cafe          Yes         No   \n",
       "3                             Addhuri Udupi Bhojana           No         No   \n",
       "4                                     Grand Village           No         No   \n",
       "5                                   Timepass Dinner          Yes         No   \n",
       "6   Rosewood International Hotel - Bar & Restaurant           No         No   \n",
       "7                                            Onesta          Yes        Yes   \n",
       "8                                    Penthouse Cafe          Yes         No   \n",
       "9                                         Smacznego          Yes         No   \n",
       "10                                CafDown The Alley          Yes         No   \n",
       "11                                     Cafe Shuffle          Yes        Yes   \n",
       "12                                 The Coffee Shack          Yes        Yes   \n",
       "13                                       Caf-Eleven           No         No   \n",
       "14                                  San Churro Cafe          Yes         No   \n",
       "15                                    Cafe Vivacity          Yes         No   \n",
       "16                                     Catch-up-ino          Yes         No   \n",
       "17                                 Kirthi's Biryani          Yes         No   \n",
       "18                                         T3H Cafe           No         No   \n",
       "19                    360 Atoms Restaurant And Cafe          Yes         No   \n",
       "\n",
       "     rate  votes      location            rest_type  \\\n",
       "0   4.1/5    775  Banashankari        Casual Dining   \n",
       "1   4.1/5    787  Banashankari        Casual Dining   \n",
       "2   3.8/5    918  Banashankari  Cafe, Casual Dining   \n",
       "3   3.7/5     88  Banashankari          Quick Bites   \n",
       "4   3.8/5    166  Basavanagudi        Casual Dining   \n",
       "5   3.8/5    286  Basavanagudi        Casual Dining   \n",
       "6   3.6/5      8   Mysore Road        Casual Dining   \n",
       "7   4.6/5   2556  Banashankari  Casual Dining, Cafe   \n",
       "8   4.0/5    324  Banashankari                 Cafe   \n",
       "9   4.2/5    504  Banashankari                 Cafe   \n",
       "10  4.1/5    402  Banashankari                 Cafe   \n",
       "11  4.2/5    150  Banashankari                 Cafe   \n",
       "12  4.2/5    164  Banashankari                 Cafe   \n",
       "13  4.0/5    424  Banashankari                 Cafe   \n",
       "14  3.8/5    918  Banashankari  Cafe, Casual Dining   \n",
       "15  3.8/5     90  Banashankari                 Cafe   \n",
       "16  3.9/5    133  Banashankari                 Cafe   \n",
       "17  3.8/5    144  Banashankari                 Cafe   \n",
       "18  3.9/5     93  Banashankari                 Cafe   \n",
       "19  3.1/5     13  Banashankari                 Cafe   \n",
       "\n",
       "                                        cuisines approx_cost          area  \n",
       "0                 North Indian, Mughlai, Chinese         800  Banashankari  \n",
       "1                    Chinese, North Indian, Thai         800  Banashankari  \n",
       "2                         Cafe, Mexican, Italian         800  Banashankari  \n",
       "3                     South Indian, North Indian         300  Banashankari  \n",
       "4                       North Indian, Rajasthani         600  Banashankari  \n",
       "5                                   North Indian         600  Banashankari  \n",
       "6    North Indian, South Indian, Andhra, Chinese         800  Banashankari  \n",
       "7                           Pizza, Cafe, Italian         600  Banashankari  \n",
       "8                     Cafe, Italian, Continental         700  Banashankari  \n",
       "9       Cafe, Mexican, Italian, Momos, Beverages         550  Banashankari  \n",
       "10                                          Cafe         500  Banashankari  \n",
       "11                    Cafe, Italian, Continental         600  Banashankari  \n",
       "12           Cafe, Chinese, Continental, Italian         500  Banashankari  \n",
       "13                             Cafe, Continental         450  Banashankari  \n",
       "14                        Cafe, Mexican, Italian         800  Banashankari  \n",
       "15                                          Cafe         650  Banashankari  \n",
       "16  Cafe, Fast Food, Continental, Chinese, Momos         800  Banashankari  \n",
       "17                        Chinese, Cafe, Italian         700  Banashankari  \n",
       "18                       Cafe, Italian, American         300  Banashankari  \n",
       "19           Cafe, Chinese, Continental, Italian         400  Banashankari  "
      ]
     },
     "execution_count": 10,
     "metadata": {},
     "output_type": "execute_result"
    }
   ],
   "source": [
    "Zomato.head(20)"
   ]
  },
  {
   "cell_type": "markdown",
   "metadata": {},
   "source": [
    "**Check null values and Handling missing/Unnecessary  data**"
   ]
  },
  {
   "cell_type": "code",
   "execution_count": 11,
   "metadata": {},
   "outputs": [
    {
     "name": "stdout",
     "output_type": "stream",
     "text": [
      "<class 'pandas.core.frame.DataFrame'>\n",
      "Int64Index: 51717 entries, 0 to 51716\n",
      "Data columns (total 10 columns):\n",
      " #   Column        Non-Null Count  Dtype \n",
      "---  ------        --------------  ----- \n",
      " 0   name          51717 non-null  object\n",
      " 1   online_order  51717 non-null  object\n",
      " 2   book_table    51717 non-null  object\n",
      " 3   rate          43942 non-null  object\n",
      " 4   votes         51717 non-null  int64 \n",
      " 5   location      51696 non-null  object\n",
      " 6   rest_type     51490 non-null  object\n",
      " 7   cuisines      51672 non-null  object\n",
      " 8   approx_cost   51371 non-null  object\n",
      " 9   area          51717 non-null  object\n",
      "dtypes: int64(1), object(9)\n",
      "memory usage: 4.3+ MB\n"
     ]
    }
   ],
   "source": [
    "Zomato.info()"
   ]
  },
  {
   "cell_type": "markdown",
   "metadata": {},
   "source": [
    "**Rating column**"
   ]
  },
  {
   "cell_type": "markdown",
   "metadata": {},
   "source": [
    "Checking unique values in Rateing colomn"
   ]
  },
  {
   "cell_type": "code",
   "execution_count": 12,
   "metadata": {},
   "outputs": [
    {
     "data": {
      "text/plain": [
       "array(['4.1/5', '3.8/5', '3.7/5', '3.6/5', '4.6/5', '4.0/5', '4.2/5',\n",
       "       '3.9/5', '3.1/5', '3.0/5', '3.2/5', '3.3/5', '2.8/5', '4.4/5',\n",
       "       '4.3/5', 'NEW', '2.9/5', '3.5/5', nan, '2.6/5', '3.8 /5', '3.4/5',\n",
       "       '4.5/5', '2.5/5', '2.7/5', '4.7/5', '2.4/5', '2.2/5', '2.3/5',\n",
       "       '3.4 /5', '-', '3.6 /5', '4.8/5', '3.9 /5', '4.2 /5', '4.0 /5',\n",
       "       '4.1 /5', '3.7 /5', '3.1 /5', '2.9 /5', '3.3 /5', '2.8 /5',\n",
       "       '3.5 /5', '2.7 /5', '2.5 /5', '3.2 /5', '2.6 /5', '4.5 /5',\n",
       "       '4.3 /5', '4.4 /5', '4.9/5', '2.1/5', '2.0/5', '1.8/5', '4.6 /5',\n",
       "       '4.9 /5', '3.0 /5', '4.8 /5', '2.3 /5', '4.7 /5', '2.4 /5',\n",
       "       '2.1 /5', '2.2 /5', '2.0 /5', '1.8 /5'], dtype=object)"
      ]
     },
     "execution_count": 12,
     "metadata": {},
     "output_type": "execute_result"
    }
   ],
   "source": [
    "Zomato.rate.unique()"
   ]
  },
  {
   "cell_type": "markdown",
   "metadata": {},
   "source": [
    "we can see that few unique value are present in data like 'NEW' , nan , - , syntax. Now we have to deal with this data."
   ]
  },
  {
   "cell_type": "code",
   "execution_count": 13,
   "metadata": {},
   "outputs": [],
   "source": [
    "Zomato['rate'] = Zomato['rate'].str.replace(\"/5\" , \"\")\n",
    "Zomato['rate'] = Zomato['rate'].str.replace(\"NEW\" , \"NAN\")\n",
    "Zomato['rate'] = Zomato['rate'].str.replace(\"nan\" , \"NAN\")\n",
    "Zomato['rate'] = Zomato['rate'].str.replace(\" /5\" , \"\")\n",
    "Zomato['rate'] = Zomato['rate'].str.replace(\"-\" , \"NAN\")\n",
    "Zomato['rate'] = Zomato['rate'].str.replace(\" \" , \"\")\n",
    "Zomato['rate'] = Zomato['rate'].fillna(np.nan)"
   ]
  },
  {
   "cell_type": "code",
   "execution_count": 14,
   "metadata": {},
   "outputs": [
    {
     "data": {
      "text/plain": [
       "array(['4.1', '3.8', '3.7', '3.6', '4.6', '4.0', '4.2', '3.9', '3.1',\n",
       "       '3.0', '3.2', '3.3', '2.8', '4.4', '4.3', 'NAN', '2.9', '3.5', nan,\n",
       "       '2.6', '3.4', '4.5', '2.5', '2.7', '4.7', '2.4', '2.2', '2.3',\n",
       "       '4.8', '4.9', '2.1', '2.0', '1.8'], dtype=object)"
      ]
     },
     "execution_count": 14,
     "metadata": {},
     "output_type": "execute_result"
    }
   ],
   "source": [
    "#Varify the column has unique value \n",
    "Zomato['rate'].unique()"
   ]
  },
  {
   "cell_type": "markdown",
   "metadata": {},
   "source": [
    "**Approx_cost Column**"
   ]
  },
  {
   "cell_type": "code",
   "execution_count": 15,
   "metadata": {},
   "outputs": [
    {
     "data": {
      "text/plain": [
       "array(['800', '300', '600', '700', '550', '500', '450', '650', '400',\n",
       "       '900', '200', '750', '150', '850', '100', '1,200', '350', '250',\n",
       "       '950', '1,000', '1,500', '1,300', '199', '80', '1,100', '160',\n",
       "       '1,600', '230', '130', '50', '190', '1,700', nan, '1,400', '180',\n",
       "       '1,350', '2,200', '2,000', '1,800', '1,900', '330', '2,500',\n",
       "       '2,100', '3,000', '2,800', '3,400', '40', '1,250', '3,500',\n",
       "       '4,000', '2,400', '2,600', '120', '1,450', '469', '70', '3,200',\n",
       "       '60', '560', '240', '360', '6,000', '1,050', '2,300', '4,100',\n",
       "       '5,000', '3,700', '1,650', '2,700', '4,500', '140'], dtype=object)"
      ]
     },
     "execution_count": 15,
     "metadata": {},
     "output_type": "execute_result"
    }
   ],
   "source": [
    "Zomato['approx_cost'].unique()"
   ]
  },
  {
   "cell_type": "markdown",
   "metadata": {},
   "source": [
    "**There are some null values and object data type**"
   ]
  },
  {
   "cell_type": "code",
   "execution_count": 16,
   "metadata": {},
   "outputs": [],
   "source": [
    "Zomato['approx_cost'] = Zomato['approx_cost'].str.replace(\"nan\", \"NAN\")\n",
    "Zomato['approx_cost'] = Zomato['approx_cost'].fillna('NAN')\n",
    "Zomato['approx_cost'] = Zomato['approx_cost'].str.replace(\",\", \"\")\n",
    "\n"
   ]
  },
  {
   "cell_type": "code",
   "execution_count": 17,
   "metadata": {},
   "outputs": [
    {
     "data": {
      "text/plain": [
       "array(['800', '300', '600', '700', '550', '500', '450', '650', '400',\n",
       "       '900', '200', '750', '150', '850', '100', '1200', '350', '250',\n",
       "       '950', '1000', '1500', '1300', '199', '80', '1100', '160', '1600',\n",
       "       '230', '130', '50', '190', '1700', 'NAN', '1400', '180', '1350',\n",
       "       '2200', '2000', '1800', '1900', '330', '2500', '2100', '3000',\n",
       "       '2800', '3400', '40', '1250', '3500', '4000', '2400', '2600',\n",
       "       '120', '1450', '469', '70', '3200', '60', '560', '240', '360',\n",
       "       '6000', '1050', '2300', '4100', '5000', '3700', '1650', '2700',\n",
       "       '4500', '140'], dtype=object)"
      ]
     },
     "execution_count": 17,
     "metadata": {},
     "output_type": "execute_result"
    }
   ],
   "source": [
    "Zomato['approx_cost'].unique()"
   ]
  },
  {
   "cell_type": "code",
   "execution_count": 18,
   "metadata": {},
   "outputs": [],
   "source": [
    "Zomato['approx_cost'] = Zomato['approx_cost'].astype(float)\n",
    "Zomato['rate'] = Zomato['rate'].astype(float)\n"
   ]
  },
  {
   "cell_type": "code",
   "execution_count": 19,
   "metadata": {},
   "outputs": [
    {
     "name": "stdout",
     "output_type": "stream",
     "text": [
      "<class 'pandas.core.frame.DataFrame'>\n",
      "Int64Index: 51717 entries, 0 to 51716\n",
      "Data columns (total 10 columns):\n",
      " #   Column        Non-Null Count  Dtype  \n",
      "---  ------        --------------  -----  \n",
      " 0   name          51717 non-null  object \n",
      " 1   online_order  51717 non-null  object \n",
      " 2   book_table    51717 non-null  object \n",
      " 3   rate          41665 non-null  float64\n",
      " 4   votes         51717 non-null  int64  \n",
      " 5   location      51696 non-null  object \n",
      " 6   rest_type     51490 non-null  object \n",
      " 7   cuisines      51672 non-null  object \n",
      " 8   approx_cost   51371 non-null  float64\n",
      " 9   area          51717 non-null  object \n",
      "dtypes: float64(2), int64(1), object(7)\n",
      "memory usage: 4.3+ MB\n"
     ]
    }
   ],
   "source": [
    "Zomato.info()"
   ]
  },
  {
   "cell_type": "markdown",
   "metadata": {},
   "source": [
    "**Checking NuLL Values**"
   ]
  },
  {
   "cell_type": "code",
   "execution_count": 20,
   "metadata": {},
   "outputs": [
    {
     "data": {
      "text/plain": [
       "name                0\n",
       "online_order        0\n",
       "book_table          0\n",
       "rate            10052\n",
       "votes               0\n",
       "location           21\n",
       "rest_type         227\n",
       "cuisines           45\n",
       "approx_cost       346\n",
       "area                0\n",
       "dtype: int64"
      ]
     },
     "execution_count": 20,
     "metadata": {},
     "output_type": "execute_result"
    }
   ],
   "source": [
    "Zomato.isnull().sum()\n"
   ]
  },
  {
   "cell_type": "code",
   "execution_count": 21,
   "metadata": {},
   "outputs": [
    {
     "data": {
      "text/plain": [
       "name             0.000000\n",
       "online_order     0.000000\n",
       "book_table       0.000000\n",
       "rate            19.436549\n",
       "votes            0.000000\n",
       "location         0.040606\n",
       "rest_type        0.438927\n",
       "cuisines         0.087012\n",
       "approx_cost      0.669026\n",
       "area             0.000000\n",
       "dtype: float64"
      ]
     },
     "execution_count": 21,
     "metadata": {},
     "output_type": "execute_result"
    }
   ],
   "source": [
    "(Zomato.isna().sum()/ Zomato.shape[0]) *100"
   ]
  },
  {
   "cell_type": "markdown",
   "metadata": {},
   "source": [
    "Drop all null values"
   ]
  },
  {
   "cell_type": "code",
   "execution_count": 22,
   "metadata": {},
   "outputs": [
    {
     "data": {
      "text/plain": [
       "name               0\n",
       "online_order       0\n",
       "book_table         0\n",
       "rate            9885\n",
       "votes              0\n",
       "location           0\n",
       "rest_type          0\n",
       "cuisines           0\n",
       "approx_cost        0\n",
       "area               0\n",
       "dtype: int64"
      ]
     },
     "execution_count": 22,
     "metadata": {},
     "output_type": "execute_result"
    }
   ],
   "source": [
    "Zomato = Zomato[Zomato[\"location\"].notna()]\n",
    "Zomato = Zomato[Zomato[\"rest_type\"].notna()]\n",
    "Zomato = Zomato[Zomato[\"cuisines\"].notna()]\n",
    "Zomato = Zomato[Zomato[\"approx_cost\"].notna()]\n",
    "Zomato.isnull().sum()"
   ]
  },
  {
   "cell_type": "markdown",
   "metadata": {},
   "source": [
    "15% Null values are present is Rate Column, If we drop then it will affect accuracy of model so we will use Mean, Mode, Median"
   ]
  },
  {
   "cell_type": "code",
   "execution_count": 23,
   "metadata": {},
   "outputs": [
    {
     "data": {
      "text/plain": [
       "count    41263.000000\n",
       "mean         3.702011\n",
       "std          0.439985\n",
       "min          1.800000\n",
       "25%          3.400000\n",
       "50%          3.700000\n",
       "75%          4.000000\n",
       "max          4.900000\n",
       "Name: rate, dtype: float64"
      ]
     },
     "execution_count": 23,
     "metadata": {},
     "output_type": "execute_result"
    }
   ],
   "source": [
    "Zomato[\"rate\"].describe()"
   ]
  },
  {
   "cell_type": "markdown",
   "metadata": {},
   "source": [
    "First before applying Stats we have to know outliers\n",
    "so first we will check outlier "
   ]
  },
  {
   "cell_type": "code",
   "execution_count": 24,
   "metadata": {},
   "outputs": [
    {
     "name": "stdout",
     "output_type": "stream",
     "text": [
      "number of outlier :  3207\n"
     ]
    }
   ],
   "source": [
    "q1 = Zomato['rate'].quantile(0.25)\n",
    "q3 = Zomato['rate'].quantile(0.75)\n",
    "\n",
    "iqr = q3 - q1\n",
    "\n",
    "\n",
    "lower_range = q1 - (1.5 * iqr)\n",
    "upper_range = q3 - (1.5 * iqr)\n",
    "\n",
    "\n",
    "outlier = len(Zomato[(Zomato[\"rate\"]<lower_range) | (Zomato[\"rate\"]<upper_range)])\n",
    "print(\"number of outlier : \" , outlier)"
   ]
  },
  {
   "cell_type": "code",
   "execution_count": 25,
   "metadata": {},
   "outputs": [],
   "source": [
    "Zomato['rate'] = Zomato['rate'].fillna(Zomato['rate'].median())"
   ]
  },
  {
   "cell_type": "code",
   "execution_count": 26,
   "metadata": {},
   "outputs": [
    {
     "data": {
      "text/plain": [
       "name            0\n",
       "online_order    0\n",
       "book_table      0\n",
       "rate            0\n",
       "votes           0\n",
       "location        0\n",
       "rest_type       0\n",
       "cuisines        0\n",
       "approx_cost     0\n",
       "area            0\n",
       "dtype: int64"
      ]
     },
     "execution_count": 26,
     "metadata": {},
     "output_type": "execute_result"
    }
   ],
   "source": [
    "Zomato.isnull().sum()"
   ]
  },
  {
   "cell_type": "code",
   "execution_count": 27,
   "metadata": {},
   "outputs": [],
   "source": [
    "Zomato.reset_index(inplace=True)\n",
    "Zomato.drop(['index'], inplace =True, axis=1)"
   ]
  },
  {
   "cell_type": "code",
   "execution_count": 28,
   "metadata": {},
   "outputs": [
    {
     "data": {
      "text/plain": [
       "(51148, 10)"
      ]
     },
     "execution_count": 28,
     "metadata": {},
     "output_type": "execute_result"
    }
   ],
   "source": [
    "Zomato.shape"
   ]
  },
  {
   "cell_type": "markdown",
   "metadata": {},
   "source": [
    "# **Data Visualization**"
   ]
  },
  {
   "cell_type": "markdown",
   "metadata": {},
   "source": [
    "**No. of order  vs Restaurants**"
   ]
  },
  {
   "cell_type": "code",
   "execution_count": 29,
   "metadata": {},
   "outputs": [
    {
     "data": {
      "text/plain": [
       "<function matplotlib.pyplot.show(close=None, block=None)>"
      ]
     },
     "execution_count": 29,
     "metadata": {},
     "output_type": "execute_result"
    },
    {
     "data": {
      "image/png": "[encoded data removed]",
      "text/plain": [
       "<Figure size 864x360 with 1 Axes>"
      ]
     },
     "metadata": {
      "needs_background": "light"
     },
     "output_type": "display_data"
    }
   ],
   "source": [
    "plt.figure(figsize = (12,5))\n",
    "data = Zomato['name'].value_counts()[:30]\n",
    "data.plot(kind = 'bar')\n",
    "plt.xlabel('Number of Restaurant', size = 14)\n",
    "plt.ylabel('No. of Orders', size = 14)\n",
    "plt.title('Restaurant with maximum No. of Orders', fontsize=15)\n",
    "plt.show\n"
   ]
  },
  {
   "cell_type": "markdown",
   "metadata": {},
   "source": [
    "**Number of restaurants haveing online order facility**"
   ]
  },
  {
   "cell_type": "code",
   "execution_count": 30,
   "metadata": {},
   "outputs": [
    {
     "data": {
      "image/png": "[encoded data removed]",
      "text/plain": [
       "<Figure size 576x360 with 1 Axes>"
      ]
     },
     "metadata": {
      "needs_background": "light"
     },
     "output_type": "display_data"
    }
   ],
   "source": [
    "data = Zomato[['name','online_order']].drop_duplicates()\n",
    "\n",
    "plt.figure(figsize = (8,5))\n",
    "ax = sns.countplot(x = \"online_order\", data=data).set_title('online order facility ', fontsize =15)\n",
    "plt.show()"
   ]
  },
  {
   "cell_type": "code",
   "execution_count": 31,
   "metadata": {},
   "outputs": [
    {
     "data": {
      "image/png": "[encoded data removed]",
      "text/plain": [
       "<Figure size 576x360 with 1 Axes>"
      ]
     },
     "metadata": {
      "needs_background": "light"
     },
     "output_type": "display_data"
    }
   ],
   "source": [
    "data = Zomato[['name','book_table']].drop_duplicates()\n",
    "\n",
    "plt.figure(figsize = (8,5))\n",
    "ax = sns.countplot(x = \"book_table\", data=data).set_title('Pre booking facility ', fontsize =15)\n",
    "plt.show()"
   ]
  },
  {
   "cell_type": "markdown",
   "metadata": {},
   "source": [
    "**Top Location got higher Number of orders**"
   ]
  },
  {
   "cell_type": "code",
   "execution_count": 32,
   "metadata": {},
   "outputs": [
    {
     "data": {
      "image/png": "[encoded data removed]",
      "text/plain": [
       "<Figure size 864x360 with 1 Axes>"
      ]
     },
     "metadata": {
      "needs_background": "light"
     },
     "output_type": "display_data"
    }
   ],
   "source": [
    "plt.figure(figsize = (12,5))\n",
    "data = Zomato.location.value_counts()[0:25]\n",
    "data.plot(kind='bar')\n",
    "plt.xlabel('Locations')\n",
    "plt.ylabel('No of orders ')\n",
    "plt.title('Top location got higher Number of Orders', size = 15)\n",
    "plt.show()"
   ]
  },
  {
   "cell_type": "markdown",
   "metadata": {},
   "source": [
    "Above visualization BTM Has higher number of Orders have and HSR, jp Nagar, Whitefield, Indianagar, jayanagar also have high numnber of orders"
   ]
  },
  {
   "cell_type": "markdown",
   "metadata": {},
   "source": [
    "**Most common Ratings for orders**"
   ]
  },
  {
   "cell_type": "code",
   "execution_count": 33,
   "metadata": {},
   "outputs": [
    {
     "data": {
      "image/png": "[encoded data removed]",
      "text/plain": [
       "<Figure size 1080x432 with 1 Axes>"
      ]
     },
     "metadata": {
      "needs_background": "light"
     },
     "output_type": "display_data"
    }
   ],
   "source": [
    "data = Zomato.rate.value_counts().reset_index()[0:20]\n",
    "\n",
    "plt.figure(figsize = (15,6))\n",
    "sns.barplot(x=data['index'], y=data['rate'])\n",
    "\n",
    "plt.xlabel('Rating')\n",
    "plt.ylabel('No of Orders')\n",
    "plt.title('Most common rating', size=15)\n",
    "plt.show()"
   ]
  },
  {
   "cell_type": "markdown",
   "metadata": {},
   "source": [
    "**Common Approximate Costs for meal of two people**"
   ]
  },
  {
   "cell_type": "code",
   "execution_count": 34,
   "metadata": {},
   "outputs": [],
   "source": [
    "data = pd.DataFrame(Zomato[\"approx_cost\"].value_counts().reset_index()[:20])\n",
    "\n",
    "data.columns=[\"approx_cost\",\"count\"]\n",
    "data = data.set_index('approx_cost')"
   ]
  },
  {
   "cell_type": "code",
   "execution_count": 35,
   "metadata": {},
   "outputs": [
    {
     "data": {
      "image/png": "[encoded data removed]",
      "text/plain": [
       "<Figure size 1080x360 with 1 Axes>"
      ]
     },
     "metadata": {
      "needs_background": "light"
     },
     "output_type": "display_data"
    }
   ],
   "source": [
    "plt.figure(figsize = (15,5))\n",
    "sns.barplot(x = data.index, y = data['count'])\n",
    "plt.xlabel('Rate for two people', size = 15)\n",
    "plt.ylabel('No. of orders', size = 15)\n",
    "plt.xticks(size=12)\n",
    "plt.yticks(size=12)\n",
    "plt.title('Top preferred costs for two people', size = 20)\n",
    "plt.show()\n"
   ]
  },
  {
   "cell_type": "markdown",
   "metadata": {},
   "source": [
    "**Leble Encoding**"
   ]
  },
  {
   "cell_type": "code",
   "execution_count": 36,
   "metadata": {},
   "outputs": [
    {
     "data": {
      "text/html": [
       "<div>\n",
       "<style scoped>\n",
       "    .dataframe tbody tr th:only-of-type {\n",
       "        vertical-align: middle;\n",
       "    }\n",
       "\n",
       "    .dataframe tbody tr th {\n",
       "        vertical-align: top;\n",
       "    }\n",
       "\n",
       "    .dataframe thead th {\n",
       "        text-align: right;\n",
       "    }\n",
       "</style>\n",
       "<table border=\"1\" class=\"dataframe\">\n",
       "  <thead>\n",
       "    <tr style=\"text-align: right;\">\n",
       "      <th></th>\n",
       "      <th>name</th>\n",
       "      <th>online_order</th>\n",
       "      <th>book_table</th>\n",
       "      <th>rate</th>\n",
       "      <th>votes</th>\n",
       "      <th>location</th>\n",
       "      <th>rest_type</th>\n",
       "      <th>cuisines</th>\n",
       "      <th>approx_cost</th>\n",
       "      <th>area</th>\n",
       "    </tr>\n",
       "  </thead>\n",
       "  <tbody>\n",
       "    <tr>\n",
       "      <th>0</th>\n",
       "      <td>Jalsa</td>\n",
       "      <td>1</td>\n",
       "      <td>Yes</td>\n",
       "      <td>4.1</td>\n",
       "      <td>775</td>\n",
       "      <td>Banashankari</td>\n",
       "      <td>Casual Dining</td>\n",
       "      <td>North Indian, Mughlai, Chinese</td>\n",
       "      <td>800.0</td>\n",
       "      <td>Banashankari</td>\n",
       "    </tr>\n",
       "    <tr>\n",
       "      <th>1</th>\n",
       "      <td>Spice Elephant</td>\n",
       "      <td>1</td>\n",
       "      <td>No</td>\n",
       "      <td>4.1</td>\n",
       "      <td>787</td>\n",
       "      <td>Banashankari</td>\n",
       "      <td>Casual Dining</td>\n",
       "      <td>Chinese, North Indian, Thai</td>\n",
       "      <td>800.0</td>\n",
       "      <td>Banashankari</td>\n",
       "    </tr>\n",
       "    <tr>\n",
       "      <th>2</th>\n",
       "      <td>San Churro Cafe</td>\n",
       "      <td>1</td>\n",
       "      <td>No</td>\n",
       "      <td>3.8</td>\n",
       "      <td>918</td>\n",
       "      <td>Banashankari</td>\n",
       "      <td>Cafe, Casual Dining</td>\n",
       "      <td>Cafe, Mexican, Italian</td>\n",
       "      <td>800.0</td>\n",
       "      <td>Banashankari</td>\n",
       "    </tr>\n",
       "    <tr>\n",
       "      <th>3</th>\n",
       "      <td>Addhuri Udupi Bhojana</td>\n",
       "      <td>0</td>\n",
       "      <td>No</td>\n",
       "      <td>3.7</td>\n",
       "      <td>88</td>\n",
       "      <td>Banashankari</td>\n",
       "      <td>Quick Bites</td>\n",
       "      <td>South Indian, North Indian</td>\n",
       "      <td>300.0</td>\n",
       "      <td>Banashankari</td>\n",
       "    </tr>\n",
       "    <tr>\n",
       "      <th>4</th>\n",
       "      <td>Grand Village</td>\n",
       "      <td>0</td>\n",
       "      <td>No</td>\n",
       "      <td>3.8</td>\n",
       "      <td>166</td>\n",
       "      <td>Basavanagudi</td>\n",
       "      <td>Casual Dining</td>\n",
       "      <td>North Indian, Rajasthani</td>\n",
       "      <td>600.0</td>\n",
       "      <td>Banashankari</td>\n",
       "    </tr>\n",
       "  </tbody>\n",
       "</table>\n",
       "</div>"
      ],
      "text/plain": [
       "                    name  online_order book_table  rate  votes      location  \\\n",
       "0                  Jalsa             1        Yes   4.1    775  Banashankari   \n",
       "1         Spice Elephant             1         No   4.1    787  Banashankari   \n",
       "2        San Churro Cafe             1         No   3.8    918  Banashankari   \n",
       "3  Addhuri Udupi Bhojana             0         No   3.7     88  Banashankari   \n",
       "4          Grand Village             0         No   3.8    166  Basavanagudi   \n",
       "\n",
       "             rest_type                        cuisines  approx_cost  \\\n",
       "0        Casual Dining  North Indian, Mughlai, Chinese        800.0   \n",
       "1        Casual Dining     Chinese, North Indian, Thai        800.0   \n",
       "2  Cafe, Casual Dining          Cafe, Mexican, Italian        800.0   \n",
       "3          Quick Bites      South Indian, North Indian        300.0   \n",
       "4        Casual Dining        North Indian, Rajasthani        600.0   \n",
       "\n",
       "           area  \n",
       "0  Banashankari  \n",
       "1  Banashankari  \n",
       "2  Banashankari  \n",
       "3  Banashankari  \n",
       "4  Banashankari  "
      ]
     },
     "execution_count": 36,
     "metadata": {},
     "output_type": "execute_result"
    }
   ],
   "source": [
    "Zomato[\"online_order\"] = Zomato['online_order'].replace({'Yes':1, 'No': 0})\n",
    "Zomato.head()"
   ]
  },
  {
   "cell_type": "code",
   "execution_count": 37,
   "metadata": {},
   "outputs": [
    {
     "data": {
      "text/html": [
       "<div>\n",
       "<style scoped>\n",
       "    .dataframe tbody tr th:only-of-type {\n",
       "        vertical-align: middle;\n",
       "    }\n",
       "\n",
       "    .dataframe tbody tr th {\n",
       "        vertical-align: top;\n",
       "    }\n",
       "\n",
       "    .dataframe thead th {\n",
       "        text-align: right;\n",
       "    }\n",
       "</style>\n",
       "<table border=\"1\" class=\"dataframe\">\n",
       "  <thead>\n",
       "    <tr style=\"text-align: right;\">\n",
       "      <th></th>\n",
       "      <th>name</th>\n",
       "      <th>online_order</th>\n",
       "      <th>book_table</th>\n",
       "      <th>rate</th>\n",
       "      <th>votes</th>\n",
       "      <th>location</th>\n",
       "      <th>rest_type</th>\n",
       "      <th>cuisines</th>\n",
       "      <th>approx_cost</th>\n",
       "      <th>area</th>\n",
       "    </tr>\n",
       "  </thead>\n",
       "  <tbody>\n",
       "    <tr>\n",
       "      <th>0</th>\n",
       "      <td>Jalsa</td>\n",
       "      <td>1</td>\n",
       "      <td>1</td>\n",
       "      <td>4.1</td>\n",
       "      <td>775</td>\n",
       "      <td>Banashankari</td>\n",
       "      <td>Casual Dining</td>\n",
       "      <td>North Indian, Mughlai, Chinese</td>\n",
       "      <td>800.0</td>\n",
       "      <td>Banashankari</td>\n",
       "    </tr>\n",
       "    <tr>\n",
       "      <th>1</th>\n",
       "      <td>Spice Elephant</td>\n",
       "      <td>1</td>\n",
       "      <td>0</td>\n",
       "      <td>4.1</td>\n",
       "      <td>787</td>\n",
       "      <td>Banashankari</td>\n",
       "      <td>Casual Dining</td>\n",
       "      <td>Chinese, North Indian, Thai</td>\n",
       "      <td>800.0</td>\n",
       "      <td>Banashankari</td>\n",
       "    </tr>\n",
       "    <tr>\n",
       "      <th>2</th>\n",
       "      <td>San Churro Cafe</td>\n",
       "      <td>1</td>\n",
       "      <td>0</td>\n",
       "      <td>3.8</td>\n",
       "      <td>918</td>\n",
       "      <td>Banashankari</td>\n",
       "      <td>Cafe, Casual Dining</td>\n",
       "      <td>Cafe, Mexican, Italian</td>\n",
       "      <td>800.0</td>\n",
       "      <td>Banashankari</td>\n",
       "    </tr>\n",
       "    <tr>\n",
       "      <th>3</th>\n",
       "      <td>Addhuri Udupi Bhojana</td>\n",
       "      <td>0</td>\n",
       "      <td>0</td>\n",
       "      <td>3.7</td>\n",
       "      <td>88</td>\n",
       "      <td>Banashankari</td>\n",
       "      <td>Quick Bites</td>\n",
       "      <td>South Indian, North Indian</td>\n",
       "      <td>300.0</td>\n",
       "      <td>Banashankari</td>\n",
       "    </tr>\n",
       "    <tr>\n",
       "      <th>4</th>\n",
       "      <td>Grand Village</td>\n",
       "      <td>0</td>\n",
       "      <td>0</td>\n",
       "      <td>3.8</td>\n",
       "      <td>166</td>\n",
       "      <td>Basavanagudi</td>\n",
       "      <td>Casual Dining</td>\n",
       "      <td>North Indian, Rajasthani</td>\n",
       "      <td>600.0</td>\n",
       "      <td>Banashankari</td>\n",
       "    </tr>\n",
       "  </tbody>\n",
       "</table>\n",
       "</div>"
      ],
      "text/plain": [
       "                    name  online_order  book_table  rate  votes      location  \\\n",
       "0                  Jalsa             1           1   4.1    775  Banashankari   \n",
       "1         Spice Elephant             1           0   4.1    787  Banashankari   \n",
       "2        San Churro Cafe             1           0   3.8    918  Banashankari   \n",
       "3  Addhuri Udupi Bhojana             0           0   3.7     88  Banashankari   \n",
       "4          Grand Village             0           0   3.8    166  Basavanagudi   \n",
       "\n",
       "             rest_type                        cuisines  approx_cost  \\\n",
       "0        Casual Dining  North Indian, Mughlai, Chinese        800.0   \n",
       "1        Casual Dining     Chinese, North Indian, Thai        800.0   \n",
       "2  Cafe, Casual Dining          Cafe, Mexican, Italian        800.0   \n",
       "3          Quick Bites      South Indian, North Indian        300.0   \n",
       "4        Casual Dining        North Indian, Rajasthani        600.0   \n",
       "\n",
       "           area  \n",
       "0  Banashankari  \n",
       "1  Banashankari  \n",
       "2  Banashankari  \n",
       "3  Banashankari  \n",
       "4  Banashankari  "
      ]
     },
     "execution_count": 37,
     "metadata": {},
     "output_type": "execute_result"
    }
   ],
   "source": [
    "Zomato['book_table'] = Zomato['book_table'].replace({'Yes': 1, 'No': 0 })\n",
    "Zomato.head()"
   ]
  },
  {
   "cell_type": "code",
   "execution_count": 38,
   "metadata": {},
   "outputs": [
    {
     "data": {
      "text/html": [
       "<div>\n",
       "<style scoped>\n",
       "    .dataframe tbody tr th:only-of-type {\n",
       "        vertical-align: middle;\n",
       "    }\n",
       "\n",
       "    .dataframe tbody tr th {\n",
       "        vertical-align: top;\n",
       "    }\n",
       "\n",
       "    .dataframe thead th {\n",
       "        text-align: right;\n",
       "    }\n",
       "</style>\n",
       "<table border=\"1\" class=\"dataframe\">\n",
       "  <thead>\n",
       "    <tr style=\"text-align: right;\">\n",
       "      <th></th>\n",
       "      <th>count</th>\n",
       "      <th>mean</th>\n",
       "      <th>std</th>\n",
       "      <th>min</th>\n",
       "      <th>25%</th>\n",
       "      <th>50%</th>\n",
       "      <th>75%</th>\n",
       "      <th>max</th>\n",
       "    </tr>\n",
       "  </thead>\n",
       "  <tbody>\n",
       "    <tr>\n",
       "      <th>online_order</th>\n",
       "      <td>51148.0</td>\n",
       "      <td>0.592614</td>\n",
       "      <td>0.491353</td>\n",
       "      <td>0.0</td>\n",
       "      <td>0.0</td>\n",
       "      <td>1.0</td>\n",
       "      <td>1.0</td>\n",
       "      <td>1.0</td>\n",
       "    </tr>\n",
       "    <tr>\n",
       "      <th>book_table</th>\n",
       "      <td>51148.0</td>\n",
       "      <td>0.126085</td>\n",
       "      <td>0.331948</td>\n",
       "      <td>0.0</td>\n",
       "      <td>0.0</td>\n",
       "      <td>0.0</td>\n",
       "      <td>0.0</td>\n",
       "      <td>1.0</td>\n",
       "    </tr>\n",
       "    <tr>\n",
       "      <th>rate</th>\n",
       "      <td>51148.0</td>\n",
       "      <td>3.701623</td>\n",
       "      <td>0.395188</td>\n",
       "      <td>1.8</td>\n",
       "      <td>3.5</td>\n",
       "      <td>3.7</td>\n",
       "      <td>3.9</td>\n",
       "      <td>4.9</td>\n",
       "    </tr>\n",
       "    <tr>\n",
       "      <th>votes</th>\n",
       "      <td>51148.0</td>\n",
       "      <td>284.917885</td>\n",
       "      <td>806.495210</td>\n",
       "      <td>0.0</td>\n",
       "      <td>7.0</td>\n",
       "      <td>41.0</td>\n",
       "      <td>199.0</td>\n",
       "      <td>16832.0</td>\n",
       "    </tr>\n",
       "    <tr>\n",
       "      <th>approx_cost</th>\n",
       "      <td>51148.0</td>\n",
       "      <td>556.043736</td>\n",
       "      <td>439.555299</td>\n",
       "      <td>40.0</td>\n",
       "      <td>300.0</td>\n",
       "      <td>400.0</td>\n",
       "      <td>700.0</td>\n",
       "      <td>6000.0</td>\n",
       "    </tr>\n",
       "  </tbody>\n",
       "</table>\n",
       "</div>"
      ],
      "text/plain": [
       "                count        mean         std   min    25%    50%    75%  \\\n",
       "online_order  51148.0    0.592614    0.491353   0.0    0.0    1.0    1.0   \n",
       "book_table    51148.0    0.126085    0.331948   0.0    0.0    0.0    0.0   \n",
       "rate          51148.0    3.701623    0.395188   1.8    3.5    3.7    3.9   \n",
       "votes         51148.0  284.917885  806.495210   0.0    7.0   41.0  199.0   \n",
       "approx_cost   51148.0  556.043736  439.555299  40.0  300.0  400.0  700.0   \n",
       "\n",
       "                  max  \n",
       "online_order      1.0  \n",
       "book_table        1.0  \n",
       "rate              4.9  \n",
       "votes         16832.0  \n",
       "approx_cost    6000.0  "
      ]
     },
     "execution_count": 38,
     "metadata": {},
     "output_type": "execute_result"
    }
   ],
   "source": [
    "Zomato.describe().T"
   ]
  },
  {
   "cell_type": "markdown",
   "metadata": {},
   "source": [
    "**lets do label ecoding as we have most of the data as object type**\n"
   ]
  },
  {
   "cell_type": "code",
   "execution_count": 39,
   "metadata": {},
   "outputs": [],
   "source": [
    "from sklearn.preprocessing import LabelEncoder\n",
    "le  = LabelEncoder()"
   ]
  },
  {
   "cell_type": "code",
   "execution_count": 40,
   "metadata": {},
   "outputs": [
    {
     "data": {
      "text/html": [
       "<div>\n",
       "<style scoped>\n",
       "    .dataframe tbody tr th:only-of-type {\n",
       "        vertical-align: middle;\n",
       "    }\n",
       "\n",
       "    .dataframe tbody tr th {\n",
       "        vertical-align: top;\n",
       "    }\n",
       "\n",
       "    .dataframe thead th {\n",
       "        text-align: right;\n",
       "    }\n",
       "</style>\n",
       "<table border=\"1\" class=\"dataframe\">\n",
       "  <thead>\n",
       "    <tr style=\"text-align: right;\">\n",
       "      <th></th>\n",
       "      <th>name</th>\n",
       "      <th>online_order</th>\n",
       "      <th>book_table</th>\n",
       "      <th>rate</th>\n",
       "      <th>votes</th>\n",
       "      <th>location</th>\n",
       "      <th>rest_type</th>\n",
       "      <th>cuisines</th>\n",
       "      <th>approx_cost</th>\n",
       "      <th>area</th>\n",
       "    </tr>\n",
       "  </thead>\n",
       "  <tbody>\n",
       "    <tr>\n",
       "      <th>0</th>\n",
       "      <td>Jalsa</td>\n",
       "      <td>1</td>\n",
       "      <td>1</td>\n",
       "      <td>4.1</td>\n",
       "      <td>775</td>\n",
       "      <td>1</td>\n",
       "      <td>27</td>\n",
       "      <td>2145</td>\n",
       "      <td>800.0</td>\n",
       "      <td>1</td>\n",
       "    </tr>\n",
       "    <tr>\n",
       "      <th>1</th>\n",
       "      <td>Spice Elephant</td>\n",
       "      <td>1</td>\n",
       "      <td>0</td>\n",
       "      <td>4.1</td>\n",
       "      <td>787</td>\n",
       "      <td>1</td>\n",
       "      <td>27</td>\n",
       "      <td>947</td>\n",
       "      <td>800.0</td>\n",
       "      <td>1</td>\n",
       "    </tr>\n",
       "    <tr>\n",
       "      <th>2</th>\n",
       "      <td>San Churro Cafe</td>\n",
       "      <td>1</td>\n",
       "      <td>0</td>\n",
       "      <td>3.8</td>\n",
       "      <td>918</td>\n",
       "      <td>1</td>\n",
       "      <td>22</td>\n",
       "      <td>761</td>\n",
       "      <td>800.0</td>\n",
       "      <td>1</td>\n",
       "    </tr>\n",
       "    <tr>\n",
       "      <th>3</th>\n",
       "      <td>Addhuri Udupi Bhojana</td>\n",
       "      <td>0</td>\n",
       "      <td>0</td>\n",
       "      <td>3.7</td>\n",
       "      <td>88</td>\n",
       "      <td>1</td>\n",
       "      <td>78</td>\n",
       "      <td>2539</td>\n",
       "      <td>300.0</td>\n",
       "      <td>1</td>\n",
       "    </tr>\n",
       "    <tr>\n",
       "      <th>4</th>\n",
       "      <td>Grand Village</td>\n",
       "      <td>0</td>\n",
       "      <td>0</td>\n",
       "      <td>3.8</td>\n",
       "      <td>166</td>\n",
       "      <td>4</td>\n",
       "      <td>27</td>\n",
       "      <td>2174</td>\n",
       "      <td>600.0</td>\n",
       "      <td>1</td>\n",
       "    </tr>\n",
       "    <tr>\n",
       "      <th>5</th>\n",
       "      <td>Timepass Dinner</td>\n",
       "      <td>1</td>\n",
       "      <td>0</td>\n",
       "      <td>3.8</td>\n",
       "      <td>286</td>\n",
       "      <td>4</td>\n",
       "      <td>27</td>\n",
       "      <td>1811</td>\n",
       "      <td>600.0</td>\n",
       "      <td>1</td>\n",
       "    </tr>\n",
       "    <tr>\n",
       "      <th>6</th>\n",
       "      <td>Rosewood International Hotel - Bar &amp; Restaurant</td>\n",
       "      <td>0</td>\n",
       "      <td>0</td>\n",
       "      <td>3.6</td>\n",
       "      <td>8</td>\n",
       "      <td>57</td>\n",
       "      <td>27</td>\n",
       "      <td>2196</td>\n",
       "      <td>800.0</td>\n",
       "      <td>1</td>\n",
       "    </tr>\n",
       "    <tr>\n",
       "      <th>7</th>\n",
       "      <td>Onesta</td>\n",
       "      <td>1</td>\n",
       "      <td>1</td>\n",
       "      <td>4.6</td>\n",
       "      <td>2556</td>\n",
       "      <td>1</td>\n",
       "      <td>29</td>\n",
       "      <td>2309</td>\n",
       "      <td>600.0</td>\n",
       "      <td>1</td>\n",
       "    </tr>\n",
       "    <tr>\n",
       "      <th>8</th>\n",
       "      <td>Penthouse Cafe</td>\n",
       "      <td>1</td>\n",
       "      <td>0</td>\n",
       "      <td>4.0</td>\n",
       "      <td>324</td>\n",
       "      <td>1</td>\n",
       "      <td>19</td>\n",
       "      <td>737</td>\n",
       "      <td>700.0</td>\n",
       "      <td>1</td>\n",
       "    </tr>\n",
       "    <tr>\n",
       "      <th>9</th>\n",
       "      <td>Smacznego</td>\n",
       "      <td>1</td>\n",
       "      <td>0</td>\n",
       "      <td>4.2</td>\n",
       "      <td>504</td>\n",
       "      <td>1</td>\n",
       "      <td>19</td>\n",
       "      <td>762</td>\n",
       "      <td>550.0</td>\n",
       "      <td>1</td>\n",
       "    </tr>\n",
       "    <tr>\n",
       "      <th>10</th>\n",
       "      <td>CafDown The Alley</td>\n",
       "      <td>1</td>\n",
       "      <td>0</td>\n",
       "      <td>4.1</td>\n",
       "      <td>402</td>\n",
       "      <td>1</td>\n",
       "      <td>19</td>\n",
       "      <td>574</td>\n",
       "      <td>500.0</td>\n",
       "      <td>1</td>\n",
       "    </tr>\n",
       "    <tr>\n",
       "      <th>11</th>\n",
       "      <td>Cafe Shuffle</td>\n",
       "      <td>1</td>\n",
       "      <td>1</td>\n",
       "      <td>4.2</td>\n",
       "      <td>150</td>\n",
       "      <td>1</td>\n",
       "      <td>19</td>\n",
       "      <td>737</td>\n",
       "      <td>600.0</td>\n",
       "      <td>1</td>\n",
       "    </tr>\n",
       "    <tr>\n",
       "      <th>12</th>\n",
       "      <td>The Coffee Shack</td>\n",
       "      <td>1</td>\n",
       "      <td>1</td>\n",
       "      <td>4.2</td>\n",
       "      <td>164</td>\n",
       "      <td>1</td>\n",
       "      <td>19</td>\n",
       "      <td>633</td>\n",
       "      <td>500.0</td>\n",
       "      <td>1</td>\n",
       "    </tr>\n",
       "    <tr>\n",
       "      <th>13</th>\n",
       "      <td>Caf-Eleven</td>\n",
       "      <td>0</td>\n",
       "      <td>0</td>\n",
       "      <td>4.0</td>\n",
       "      <td>424</td>\n",
       "      <td>1</td>\n",
       "      <td>19</td>\n",
       "      <td>640</td>\n",
       "      <td>450.0</td>\n",
       "      <td>1</td>\n",
       "    </tr>\n",
       "    <tr>\n",
       "      <th>14</th>\n",
       "      <td>San Churro Cafe</td>\n",
       "      <td>1</td>\n",
       "      <td>0</td>\n",
       "      <td>3.8</td>\n",
       "      <td>918</td>\n",
       "      <td>1</td>\n",
       "      <td>22</td>\n",
       "      <td>761</td>\n",
       "      <td>800.0</td>\n",
       "      <td>1</td>\n",
       "    </tr>\n",
       "    <tr>\n",
       "      <th>15</th>\n",
       "      <td>Cafe Vivacity</td>\n",
       "      <td>1</td>\n",
       "      <td>0</td>\n",
       "      <td>3.8</td>\n",
       "      <td>90</td>\n",
       "      <td>1</td>\n",
       "      <td>19</td>\n",
       "      <td>574</td>\n",
       "      <td>650.0</td>\n",
       "      <td>1</td>\n",
       "    </tr>\n",
       "    <tr>\n",
       "      <th>16</th>\n",
       "      <td>Catch-up-ino</td>\n",
       "      <td>1</td>\n",
       "      <td>0</td>\n",
       "      <td>3.9</td>\n",
       "      <td>133</td>\n",
       "      <td>1</td>\n",
       "      <td>19</td>\n",
       "      <td>710</td>\n",
       "      <td>800.0</td>\n",
       "      <td>1</td>\n",
       "    </tr>\n",
       "    <tr>\n",
       "      <th>17</th>\n",
       "      <td>Kirthi's Biryani</td>\n",
       "      <td>1</td>\n",
       "      <td>0</td>\n",
       "      <td>3.8</td>\n",
       "      <td>144</td>\n",
       "      <td>1</td>\n",
       "      <td>19</td>\n",
       "      <td>836</td>\n",
       "      <td>700.0</td>\n",
       "      <td>1</td>\n",
       "    </tr>\n",
       "    <tr>\n",
       "      <th>18</th>\n",
       "      <td>T3H Cafe</td>\n",
       "      <td>0</td>\n",
       "      <td>0</td>\n",
       "      <td>3.9</td>\n",
       "      <td>93</td>\n",
       "      <td>1</td>\n",
       "      <td>19</td>\n",
       "      <td>731</td>\n",
       "      <td>300.0</td>\n",
       "      <td>1</td>\n",
       "    </tr>\n",
       "    <tr>\n",
       "      <th>19</th>\n",
       "      <td>360 Atoms Restaurant And Cafe</td>\n",
       "      <td>1</td>\n",
       "      <td>0</td>\n",
       "      <td>3.1</td>\n",
       "      <td>13</td>\n",
       "      <td>1</td>\n",
       "      <td>19</td>\n",
       "      <td>633</td>\n",
       "      <td>400.0</td>\n",
       "      <td>1</td>\n",
       "    </tr>\n",
       "  </tbody>\n",
       "</table>\n",
       "</div>"
      ],
      "text/plain": [
       "                                               name  online_order  book_table  \\\n",
       "0                                             Jalsa             1           1   \n",
       "1                                    Spice Elephant             1           0   \n",
       "2                                   San Churro Cafe             1           0   \n",
       "3                             Addhuri Udupi Bhojana             0           0   \n",
       "4                                     Grand Village             0           0   \n",
       "5                                   Timepass Dinner             1           0   \n",
       "6   Rosewood International Hotel - Bar & Restaurant             0           0   \n",
       "7                                            Onesta             1           1   \n",
       "8                                    Penthouse Cafe             1           0   \n",
       "9                                         Smacznego             1           0   \n",
       "10                                CafDown The Alley             1           0   \n",
       "11                                     Cafe Shuffle             1           1   \n",
       "12                                 The Coffee Shack             1           1   \n",
       "13                                       Caf-Eleven             0           0   \n",
       "14                                  San Churro Cafe             1           0   \n",
       "15                                    Cafe Vivacity             1           0   \n",
       "16                                     Catch-up-ino             1           0   \n",
       "17                                 Kirthi's Biryani             1           0   \n",
       "18                                         T3H Cafe             0           0   \n",
       "19                    360 Atoms Restaurant And Cafe             1           0   \n",
       "\n",
       "    rate  votes  location  rest_type  cuisines  approx_cost  area  \n",
       "0    4.1    775         1         27      2145        800.0     1  \n",
       "1    4.1    787         1         27       947        800.0     1  \n",
       "2    3.8    918         1         22       761        800.0     1  \n",
       "3    3.7     88         1         78      2539        300.0     1  \n",
       "4    3.8    166         4         27      2174        600.0     1  \n",
       "5    3.8    286         4         27      1811        600.0     1  \n",
       "6    3.6      8        57         27      2196        800.0     1  \n",
       "7    4.6   2556         1         29      2309        600.0     1  \n",
       "8    4.0    324         1         19       737        700.0     1  \n",
       "9    4.2    504         1         19       762        550.0     1  \n",
       "10   4.1    402         1         19       574        500.0     1  \n",
       "11   4.2    150         1         19       737        600.0     1  \n",
       "12   4.2    164         1         19       633        500.0     1  \n",
       "13   4.0    424         1         19       640        450.0     1  \n",
       "14   3.8    918         1         22       761        800.0     1  \n",
       "15   3.8     90         1         19       574        650.0     1  \n",
       "16   3.9    133         1         19       710        800.0     1  \n",
       "17   3.8    144         1         19       836        700.0     1  \n",
       "18   3.9     93         1         19       731        300.0     1  \n",
       "19   3.1     13         1         19       633        400.0     1  "
      ]
     },
     "execution_count": 40,
     "metadata": {},
     "output_type": "execute_result"
    }
   ],
   "source": [
    "list = ['rest_type','cuisines','area','location']\n",
    "for i in list:\n",
    "    Zomato[i] = le.fit_transform(Zomato[i])\n",
    "    \n",
    "    \n",
    "Zomato.head(20)\n"
   ]
  },
  {
   "cell_type": "markdown",
   "metadata": {},
   "source": [
    "# **Feature Selection**"
   ]
  },
  {
   "cell_type": "code",
   "execution_count": 41,
   "metadata": {},
   "outputs": [
    {
     "data": {
      "text/html": [
       "<div>\n",
       "<style scoped>\n",
       "    .dataframe tbody tr th:only-of-type {\n",
       "        vertical-align: middle;\n",
       "    }\n",
       "\n",
       "    .dataframe tbody tr th {\n",
       "        vertical-align: top;\n",
       "    }\n",
       "\n",
       "    .dataframe thead th {\n",
       "        text-align: right;\n",
       "    }\n",
       "</style>\n",
       "<table border=\"1\" class=\"dataframe\">\n",
       "  <thead>\n",
       "    <tr style=\"text-align: right;\">\n",
       "      <th></th>\n",
       "      <th>name</th>\n",
       "      <th>online_order</th>\n",
       "      <th>book_table</th>\n",
       "      <th>rate</th>\n",
       "      <th>votes</th>\n",
       "      <th>location</th>\n",
       "      <th>rest_type</th>\n",
       "      <th>cuisines</th>\n",
       "      <th>approx_cost</th>\n",
       "      <th>area</th>\n",
       "    </tr>\n",
       "  </thead>\n",
       "  <tbody>\n",
       "    <tr>\n",
       "      <th>0</th>\n",
       "      <td>Jalsa</td>\n",
       "      <td>1</td>\n",
       "      <td>1</td>\n",
       "      <td>4.1</td>\n",
       "      <td>775</td>\n",
       "      <td>1</td>\n",
       "      <td>27</td>\n",
       "      <td>2145</td>\n",
       "      <td>800.0</td>\n",
       "      <td>1</td>\n",
       "    </tr>\n",
       "    <tr>\n",
       "      <th>1</th>\n",
       "      <td>Spice Elephant</td>\n",
       "      <td>1</td>\n",
       "      <td>0</td>\n",
       "      <td>4.1</td>\n",
       "      <td>787</td>\n",
       "      <td>1</td>\n",
       "      <td>27</td>\n",
       "      <td>947</td>\n",
       "      <td>800.0</td>\n",
       "      <td>1</td>\n",
       "    </tr>\n",
       "    <tr>\n",
       "      <th>2</th>\n",
       "      <td>San Churro Cafe</td>\n",
       "      <td>1</td>\n",
       "      <td>0</td>\n",
       "      <td>3.8</td>\n",
       "      <td>918</td>\n",
       "      <td>1</td>\n",
       "      <td>22</td>\n",
       "      <td>761</td>\n",
       "      <td>800.0</td>\n",
       "      <td>1</td>\n",
       "    </tr>\n",
       "    <tr>\n",
       "      <th>3</th>\n",
       "      <td>Addhuri Udupi Bhojana</td>\n",
       "      <td>0</td>\n",
       "      <td>0</td>\n",
       "      <td>3.7</td>\n",
       "      <td>88</td>\n",
       "      <td>1</td>\n",
       "      <td>78</td>\n",
       "      <td>2539</td>\n",
       "      <td>300.0</td>\n",
       "      <td>1</td>\n",
       "    </tr>\n",
       "    <tr>\n",
       "      <th>4</th>\n",
       "      <td>Grand Village</td>\n",
       "      <td>0</td>\n",
       "      <td>0</td>\n",
       "      <td>3.8</td>\n",
       "      <td>166</td>\n",
       "      <td>4</td>\n",
       "      <td>27</td>\n",
       "      <td>2174</td>\n",
       "      <td>600.0</td>\n",
       "      <td>1</td>\n",
       "    </tr>\n",
       "  </tbody>\n",
       "</table>\n",
       "</div>"
      ],
      "text/plain": [
       "                    name  online_order  book_table  rate  votes  location  \\\n",
       "0                  Jalsa             1           1   4.1    775         1   \n",
       "1         Spice Elephant             1           0   4.1    787         1   \n",
       "2        San Churro Cafe             1           0   3.8    918         1   \n",
       "3  Addhuri Udupi Bhojana             0           0   3.7     88         1   \n",
       "4          Grand Village             0           0   3.8    166         4   \n",
       "\n",
       "   rest_type  cuisines  approx_cost  area  \n",
       "0         27      2145        800.0     1  \n",
       "1         27       947        800.0     1  \n",
       "2         22       761        800.0     1  \n",
       "3         78      2539        300.0     1  \n",
       "4         27      2174        600.0     1  "
      ]
     },
     "execution_count": 41,
     "metadata": {},
     "output_type": "execute_result"
    }
   ],
   "source": [
    "Zomato.head()"
   ]
  },
  {
   "cell_type": "code",
   "execution_count": 42,
   "metadata": {},
   "outputs": [
    {
     "data": {
      "text/html": [
       "<div>\n",
       "<style scoped>\n",
       "    .dataframe tbody tr th:only-of-type {\n",
       "        vertical-align: middle;\n",
       "    }\n",
       "\n",
       "    .dataframe tbody tr th {\n",
       "        vertical-align: top;\n",
       "    }\n",
       "\n",
       "    .dataframe thead th {\n",
       "        text-align: right;\n",
       "    }\n",
       "</style>\n",
       "<table border=\"1\" class=\"dataframe\">\n",
       "  <thead>\n",
       "    <tr style=\"text-align: right;\">\n",
       "      <th></th>\n",
       "      <th>online_order</th>\n",
       "      <th>book_table</th>\n",
       "      <th>votes</th>\n",
       "      <th>location</th>\n",
       "      <th>rest_type</th>\n",
       "      <th>approx_cost</th>\n",
       "    </tr>\n",
       "  </thead>\n",
       "  <tbody>\n",
       "    <tr>\n",
       "      <th>0</th>\n",
       "      <td>1</td>\n",
       "      <td>1</td>\n",
       "      <td>775</td>\n",
       "      <td>1</td>\n",
       "      <td>27</td>\n",
       "      <td>800.0</td>\n",
       "    </tr>\n",
       "    <tr>\n",
       "      <th>1</th>\n",
       "      <td>1</td>\n",
       "      <td>0</td>\n",
       "      <td>787</td>\n",
       "      <td>1</td>\n",
       "      <td>27</td>\n",
       "      <td>800.0</td>\n",
       "    </tr>\n",
       "    <tr>\n",
       "      <th>2</th>\n",
       "      <td>1</td>\n",
       "      <td>0</td>\n",
       "      <td>918</td>\n",
       "      <td>1</td>\n",
       "      <td>22</td>\n",
       "      <td>800.0</td>\n",
       "    </tr>\n",
       "    <tr>\n",
       "      <th>3</th>\n",
       "      <td>0</td>\n",
       "      <td>0</td>\n",
       "      <td>88</td>\n",
       "      <td>1</td>\n",
       "      <td>78</td>\n",
       "      <td>300.0</td>\n",
       "    </tr>\n",
       "    <tr>\n",
       "      <th>4</th>\n",
       "      <td>0</td>\n",
       "      <td>0</td>\n",
       "      <td>166</td>\n",
       "      <td>4</td>\n",
       "      <td>27</td>\n",
       "      <td>600.0</td>\n",
       "    </tr>\n",
       "  </tbody>\n",
       "</table>\n",
       "</div>"
      ],
      "text/plain": [
       "   online_order  book_table  votes  location  rest_type  approx_cost\n",
       "0             1           1    775         1         27        800.0\n",
       "1             1           0    787         1         27        800.0\n",
       "2             1           0    918         1         22        800.0\n",
       "3             0           0     88         1         78        300.0\n",
       "4             0           0    166         4         27        600.0"
      ]
     },
     "execution_count": 42,
     "metadata": {},
     "output_type": "execute_result"
    }
   ],
   "source": [
    "X = Zomato.iloc[:,[1,2,4,5,6,8]] \n",
    "X.head()"
   ]
  },
  {
   "cell_type": "code",
   "execution_count": 43,
   "metadata": {},
   "outputs": [
    {
     "data": {
      "text/plain": [
       "array([[4.1],\n",
       "       [4.1],\n",
       "       [3.8],\n",
       "       ...,\n",
       "       [3.7],\n",
       "       [4.3],\n",
       "       [3.4]])"
      ]
     },
     "execution_count": 43,
     "metadata": {},
     "output_type": "execute_result"
    }
   ],
   "source": [
    "Y = Zomato.iloc[:,[3]].values\n",
    "Y"
   ]
  },
  {
   "cell_type": "markdown",
   "metadata": {},
   "source": [
    "# **Splitting Data**"
   ]
  },
  {
   "cell_type": "code",
   "execution_count": 44,
   "metadata": {},
   "outputs": [],
   "source": [
    "from sklearn.model_selection import train_test_split\n",
    "X_train,X_test,Y_train,Y_test=train_test_split(X,Y,test_size = 0.2, random_state=45)\n"
   ]
  },
  {
   "cell_type": "code",
   "execution_count": 45,
   "metadata": {},
   "outputs": [
    {
     "data": {
      "text/plain": [
       "((40918, 6), (10230, 6), (40918, 1), (10230, 1))"
      ]
     },
     "execution_count": 45,
     "metadata": {},
     "output_type": "execute_result"
    }
   ],
   "source": [
    "X_train.shape, X_test.shape, Y_train.shape, Y_test.shape"
   ]
  },
  {
   "cell_type": "markdown",
   "metadata": {},
   "source": [
    "**Applying ML Algorithm**"
   ]
  },
  {
   "cell_type": "markdown",
   "metadata": {},
   "source": [
    "**Linear Regression**"
   ]
  },
  {
   "cell_type": "code",
   "execution_count": 46,
   "metadata": {},
   "outputs": [],
   "source": [
    "from sklearn.linear_model import LinearRegression \n",
    "from sklearn.ensemble import RandomForestRegressor \n",
    "from sklearn.tree import DecisionTreeRegressor"
   ]
  },
  {
   "cell_type": "code",
   "execution_count": 47,
   "metadata": {},
   "outputs": [
    {
     "data": {
      "text/plain": [
       "LinearRegression()"
      ]
     },
     "execution_count": 47,
     "metadata": {},
     "output_type": "execute_result"
    }
   ],
   "source": [
    "Lr = LinearRegression()\n",
    "Lr.fit(X_train,Y_train)"
   ]
  },
  {
   "cell_type": "code",
   "execution_count": 48,
   "metadata": {},
   "outputs": [
    {
     "data": {
      "text/plain": [
       "array([[3.67110591],\n",
       "       [3.59204513],\n",
       "       [3.85605116],\n",
       "       [3.64707713],\n",
       "       [3.56011859],\n",
       "       [3.58249403],\n",
       "       [4.16459547],\n",
       "       [3.72528351],\n",
       "       [3.66583795],\n",
       "       [3.59535192]])"
      ]
     },
     "execution_count": 48,
     "metadata": {},
     "output_type": "execute_result"
    }
   ],
   "source": [
    "Lr_predict = Lr.predict(X_test)\n",
    "Lr_predict[:10]"
   ]
  },
  {
   "cell_type": "code",
   "execution_count": 49,
   "metadata": {},
   "outputs": [],
   "source": [
    "from sklearn.metrics import r2_score\n"
   ]
  },
  {
   "cell_type": "code",
   "execution_count": 50,
   "metadata": {},
   "outputs": [
    {
     "name": "stdout",
     "output_type": "stream",
     "text": [
      "Accuracy Score for Linear Regression is:  27.39178596917702\n"
     ]
    }
   ],
   "source": [
    "lin_regressor_score = r2_score(Y_test,Lr_predict)*100\n",
    "print(\"Accuracy Score for Linear Regression is: \",lin_regressor_score)"
   ]
  },
  {
   "cell_type": "markdown",
   "metadata": {},
   "source": [
    "**KNN Regression**"
   ]
  },
  {
   "cell_type": "code",
   "execution_count": 51,
   "metadata": {},
   "outputs": [],
   "source": [
    "from sklearn.neighbors import KNeighborsRegressor\n"
   ]
  },
  {
   "cell_type": "code",
   "execution_count": 52,
   "metadata": {},
   "outputs": [],
   "source": [
    "knn=KNeighborsRegressor(n_neighbors=5)"
   ]
  },
  {
   "cell_type": "code",
   "execution_count": 53,
   "metadata": {},
   "outputs": [
    {
     "data": {
      "text/plain": [
       "KNeighborsRegressor()"
      ]
     },
     "execution_count": 53,
     "metadata": {},
     "output_type": "execute_result"
    }
   ],
   "source": [
    "knn.fit(X_train,Y_train)"
   ]
  },
  {
   "cell_type": "code",
   "execution_count": 54,
   "metadata": {},
   "outputs": [
    {
     "data": {
      "text/plain": [
       "array([[3.7 ],\n",
       "       [4.1 ],\n",
       "       [4.3 ],\n",
       "       ...,\n",
       "       [3.7 ],\n",
       "       [4.2 ],\n",
       "       [4.16]])"
      ]
     },
     "execution_count": 54,
     "metadata": {},
     "output_type": "execute_result"
    }
   ],
   "source": [
    "knn_predict = knn.predict(X_test)\n",
    "knn_predict"
   ]
  },
  {
   "cell_type": "code",
   "execution_count": 55,
   "metadata": {},
   "outputs": [],
   "source": [
    "knn_score = r2_score(Y_test,knn_predict)*100"
   ]
  },
  {
   "cell_type": "code",
   "execution_count": 56,
   "metadata": {},
   "outputs": [
    {
     "name": "stdout",
     "output_type": "stream",
     "text": [
      "KNN Accuracy_score  74.52975620674496\n"
     ]
    }
   ],
   "source": [
    "print(\"KNN Accuracy_score \", knn_score)"
   ]
  },
  {
   "cell_type": "markdown",
   "metadata": {},
   "source": [
    "**Random Forest Regression**"
   ]
  },
  {
   "cell_type": "code",
   "execution_count": 57,
   "metadata": {},
   "outputs": [],
   "source": [
    "from sklearn.ensemble import RandomForestRegressor\n"
   ]
  },
  {
   "cell_type": "code",
   "execution_count": 58,
   "metadata": {},
   "outputs": [
    {
     "name": "stderr",
     "output_type": "stream",
     "text": [
      "<ipython-input-58-30bae5b2842b>:2: DataConversionWarning: A column-vector y was passed when a 1d array was expected. Please change the shape of y to (n_samples,), for example using ravel().\n",
      "  RF.fit(X_train,Y_train)\n"
     ]
    },
    {
     "data": {
      "text/plain": [
       "RandomForestRegressor()"
      ]
     },
     "execution_count": 58,
     "metadata": {},
     "output_type": "execute_result"
    }
   ],
   "source": [
    "RF = RandomForestRegressor()\n",
    "RF.fit(X_train,Y_train)\n"
   ]
  },
  {
   "cell_type": "code",
   "execution_count": 59,
   "metadata": {},
   "outputs": [
    {
     "data": {
      "text/plain": [
       "array([3.7  , 4.1  , 4.3  , ..., 3.7  , 4.2  , 4.273])"
      ]
     },
     "execution_count": 59,
     "metadata": {},
     "output_type": "execute_result"
    }
   ],
   "source": [
    "RF_predict = RF.predict(X_test)\n",
    "RF_predict"
   ]
  },
  {
   "cell_type": "code",
   "execution_count": 60,
   "metadata": {},
   "outputs": [
    {
     "data": {
      "text/plain": [
       "91.30418070136751"
      ]
     },
     "execution_count": 60,
     "metadata": {},
     "output_type": "execute_result"
    }
   ],
   "source": [
    "RF_score = r2_score(Y_test,RF_predict)*100\n",
    "RF_score"
   ]
  },
  {
   "cell_type": "code",
   "execution_count": 61,
   "metadata": {},
   "outputs": [
    {
     "name": "stdout",
     "output_type": "stream",
     "text": [
      "RandomForestRegressor Accuracy_score  91.30418070136751\n"
     ]
    }
   ],
   "source": [
    "print(\"RandomForestRegressor Accuracy_score \", RF_score)"
   ]
  },
  {
   "cell_type": "markdown",
   "metadata": {},
   "source": [
    "**Extra Tree Regressor**"
   ]
  },
  {
   "cell_type": "code",
   "execution_count": 62,
   "metadata": {},
   "outputs": [],
   "source": [
    "from sklearn.ensemble import ExtraTreesRegressor\n"
   ]
  },
  {
   "cell_type": "code",
   "execution_count": 63,
   "metadata": {},
   "outputs": [],
   "source": [
    "extratree_regressor = ExtraTreesRegressor()\n"
   ]
  },
  {
   "cell_type": "code",
   "execution_count": 64,
   "metadata": {},
   "outputs": [
    {
     "name": "stderr",
     "output_type": "stream",
     "text": [
      "<ipython-input-64-f3409f4e40df>:1: DataConversionWarning: A column-vector y was passed when a 1d array was expected. Please change the shape of y to (n_samples,), for example using ravel().\n",
      "  extratree_regressor.fit(X_train,Y_train)\n"
     ]
    },
    {
     "data": {
      "text/plain": [
       "ExtraTreesRegressor()"
      ]
     },
     "execution_count": 64,
     "metadata": {},
     "output_type": "execute_result"
    }
   ],
   "source": [
    "extratree_regressor.fit(X_train,Y_train)\n"
   ]
  },
  {
   "cell_type": "code",
   "execution_count": 65,
   "metadata": {},
   "outputs": [],
   "source": [
    "extratree_regressor_predict = extratree_regressor.predict(X_test)\n"
   ]
  },
  {
   "cell_type": "code",
   "execution_count": 66,
   "metadata": {},
   "outputs": [
    {
     "name": "stdout",
     "output_type": "stream",
     "text": [
      "Accuracy for Extra Tree Regressor is: 93.51804273137012\n"
     ]
    }
   ],
   "source": [
    "extratree_regressor_score = r2_score(Y_test,extratree_regressor_predict)*100\n",
    "print(\"Accuracy for Extra Tree Regressor is:\",extratree_regressor_score)\n"
   ]
  },
  {
   "cell_type": "code",
   "execution_count": 67,
   "metadata": {},
   "outputs": [
    {
     "data": {
      "text/html": [
       "<div>\n",
       "<style scoped>\n",
       "    .dataframe tbody tr th:only-of-type {\n",
       "        vertical-align: middle;\n",
       "    }\n",
       "\n",
       "    .dataframe tbody tr th {\n",
       "        vertical-align: top;\n",
       "    }\n",
       "\n",
       "    .dataframe thead th {\n",
       "        text-align: right;\n",
       "    }\n",
       "</style>\n",
       "<table border=\"1\" class=\"dataframe\">\n",
       "  <thead>\n",
       "    <tr style=\"text-align: right;\">\n",
       "      <th></th>\n",
       "      <th>Actual</th>\n",
       "      <th>Predicted</th>\n",
       "    </tr>\n",
       "  </thead>\n",
       "  <tbody>\n",
       "    <tr>\n",
       "      <th>0</th>\n",
       "      <td>3.7</td>\n",
       "      <td>3.70</td>\n",
       "    </tr>\n",
       "    <tr>\n",
       "      <th>1</th>\n",
       "      <td>4.1</td>\n",
       "      <td>4.10</td>\n",
       "    </tr>\n",
       "    <tr>\n",
       "      <th>2</th>\n",
       "      <td>4.3</td>\n",
       "      <td>4.30</td>\n",
       "    </tr>\n",
       "    <tr>\n",
       "      <th>3</th>\n",
       "      <td>3.0</td>\n",
       "      <td>3.00</td>\n",
       "    </tr>\n",
       "    <tr>\n",
       "      <th>4</th>\n",
       "      <td>3.2</td>\n",
       "      <td>3.37</td>\n",
       "    </tr>\n",
       "    <tr>\n",
       "      <th>...</th>\n",
       "      <td>...</td>\n",
       "      <td>...</td>\n",
       "    </tr>\n",
       "    <tr>\n",
       "      <th>10225</th>\n",
       "      <td>3.9</td>\n",
       "      <td>3.90</td>\n",
       "    </tr>\n",
       "    <tr>\n",
       "      <th>10226</th>\n",
       "      <td>3.7</td>\n",
       "      <td>3.70</td>\n",
       "    </tr>\n",
       "    <tr>\n",
       "      <th>10227</th>\n",
       "      <td>3.7</td>\n",
       "      <td>3.70</td>\n",
       "    </tr>\n",
       "    <tr>\n",
       "      <th>10228</th>\n",
       "      <td>4.2</td>\n",
       "      <td>4.20</td>\n",
       "    </tr>\n",
       "    <tr>\n",
       "      <th>10229</th>\n",
       "      <td>4.3</td>\n",
       "      <td>4.30</td>\n",
       "    </tr>\n",
       "  </tbody>\n",
       "</table>\n",
       "<p>10230 rows × 2 columns</p>\n",
       "</div>"
      ],
      "text/plain": [
       "       Actual  Predicted\n",
       "0         3.7       3.70\n",
       "1         4.1       4.10\n",
       "2         4.3       4.30\n",
       "3         3.0       3.00\n",
       "4         3.2       3.37\n",
       "...       ...        ...\n",
       "10225     3.9       3.90\n",
       "10226     3.7       3.70\n",
       "10227     3.7       3.70\n",
       "10228     4.2       4.20\n",
       "10229     4.3       4.30\n",
       "\n",
       "[10230 rows x 2 columns]"
      ]
     },
     "execution_count": 67,
     "metadata": {},
     "output_type": "execute_result"
    }
   ],
   "source": [
    "#comp = pd.DataFrame({\"Actual\":Y_test,\"Predicted\":np.round(extratree_regressor_predict,2)})\n",
    "#comp\n",
    "actual = Y_test.flatten()\n",
    "predicted = np.round(extratree_regressor_predict, 2).flatten()\n",
    "\n",
    "comp = pd.DataFrame({\"Actual\": actual, \"Predicted\": predicted})\n",
    "comp"
   ]
  },
  {
   "cell_type": "code",
   "execution_count": null,
   "metadata": {},
   "outputs": [],
   "source": []
  },
  {
   "cell_type": "code",
   "execution_count": 68,
   "metadata": {},
   "outputs": [
    {
     "data": {
      "text/plain": [
       "0.991587230253288"
      ]
     },
     "execution_count": 68,
     "metadata": {},
     "output_type": "execute_result"
    }
   ],
   "source": [
    "extratree_regressor.score(X_train,Y_train)"
   ]
  },
  {
   "cell_type": "code",
   "execution_count": 69,
   "metadata": {},
   "outputs": [],
   "source": [
    "from sklearn.metrics import accuracy_score"
   ]
  },
  {
   "cell_type": "code",
   "execution_count": 70,
   "metadata": {},
   "outputs": [
    {
     "data": {
      "text/plain": [
       "0.9351804273137012"
      ]
     },
     "execution_count": 70,
     "metadata": {},
     "output_type": "execute_result"
    }
   ],
   "source": [
    "from sklearn.metrics import r2_score\n",
    "\n",
    "# Make predictions on the test set\n",
    "y_pred = extratree_regressor.predict(X_test)\n",
    "\n",
    "# Calculate the R-squared score between the predicted and true values\n",
    "r2 = r2_score(Y_test, y_pred)\n",
    "r2\n"
   ]
  },
  {
   "cell_type": "code",
   "execution_count": 71,
   "metadata": {},
   "outputs": [],
   "source": [
    "#import pickle\n",
    "#pickle.dump(extratree_regressor,open('model.pkl','wb'))\n",
    "#model = pickle.load(open('model.pkl','rb'))"
   ]
  },
  {
   "cell_type": "code",
   "execution_count": 72,
   "metadata": {},
   "outputs": [],
   "source": [
    "import joblib\n"
   ]
  },
  {
   "cell_type": "code",
   "execution_count": 73,
   "metadata": {},
   "outputs": [
    {
     "data": {
      "text/plain": [
       "['extratree_regressor.joblib']"
      ]
     },
     "execution_count": 73,
     "metadata": {},
     "output_type": "execute_result"
    }
   ],
   "source": [
    "# Save the model to a file\n",
    "joblib.dump(extratree_regressor, 'extratree_regressor.joblib',compress=True)\n"
   ]
  },
  {
   "cell_type": "code",
   "execution_count": 74,
   "metadata": {},
   "outputs": [],
   "source": [
    "# Load the model from the file\n",
    "loaded_model = joblib.load('extratree_regressor.joblib')"
   ]
  }
 ],
 "metadata": {
  "kernelspec": {
   "display_name": "Python 3",
   "language": "python",
   "name": "python3"
  },
  "language_info": {
   "codemirror_mode": {
    "name": "ipython",
    "version": 3
   },
   "file_extension": ".py",
   "mimetype": "text/x-python",
   "name": "python",
   "nbconvert_exporter": "python",
   "pygments_lexer": "ipython3",
   "version": "3.8.3"
  }
 },
 "nbformat": 4,
 "nbformat_minor": 4
}
